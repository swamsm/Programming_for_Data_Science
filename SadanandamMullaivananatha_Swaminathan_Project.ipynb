{
 "cells": [
  {
   "cell_type": "markdown",
   "metadata": {},
   "source": [
    "# SadanandamMullaivananatha_Swaminathan_Project"
   ]
  },
  {
   "cell_type": "markdown",
   "metadata": {},
   "source": [
    "### Github Link: https://github.com/swamsm/Programming_for_Data_Science/blob/master/SadanandamMullaivananatha_Swaminathan_Project.ipynb"
   ]
  },
  {
   "cell_type": "markdown",
   "metadata": {},
   "source": [
    "### Project outline: \n",
    "\n",
    "- Read data into Jupyter notebook, use pandas to import data into a data frame\n",
    "- Preprocess data: Explore data, check for missing data and apply data scaling. Justify the type of scaling used.\n",
    "- Goal is to predict the **total transaction revenue**. \n",
    "- Decide aboute a good evaluation strategy and justify your choice.\n",
    "- Split dataset into train and test dataset. \n",
    "- Choose two supervised learning model of your choice to train on train set. Use proper methods to find the best parameters. Evaluate your method on test data according to evaluation strategy. \n",
    "- Choose two unsupervised learning models, clustering, to train on your dataset. Discuss results. \n",
    "- Choose two unsupervised learning models, dimentionally reduction, and train it your dataset. Now use the same supervised learning models above on reduced dataset. Can you see any differences? Discuss the result. \n",
    "- Use a neural network model on your dataset. Compare the result with other two supervised learning models. Which model performs better? \n",
    "\n",
    "### Deliverables:\n",
    "- Submit IPython notebook. Use markdown to provide an inline comments for this project.\n",
    "- Submit only one notebook. Before submitting, make sure everything runs as expected. To check that, restart the kernel (in the menubar, select Kernel > Restart) and then run all cells (in the menubar, select Cell > Run All).\n",
    "- Visualization expected. \n",
    "\n",
    "### Dataset Description\n",
    "This is an online Merchandise Store customer dataset. Goal is to predict the total transaction revenue. \n",
    "Each row in the dataset is one visit to the store. \n",
    "\n",
    "Data Fields\n",
    "- fullVisitorId- A unique identifier for each user of the Google Merchandise Store.\n",
    "- channelGrouping - The channel via which the user came to the Store.\n",
    "- date - The date on which the user visited the Store.\n",
    "- device - The specifications for the device used to access the Store.\n",
    "- geoNetwork - This section contains information about the geography of the user.\n",
    "- sessionId - A unique identifier for this visit to the store.\n",
    "- socialEngagementType - Engagement type, either \"Socially Engaged\" or \"Not Socially Engaged\".\n",
    "- totals - This section contains aggregate values across the session.\n",
    "- trafficSource - This section contains information about the Traffic Source from which the session originated.\n",
    "- visitId - An identifier for this session. This is part of the value usually stored as the _utmb cookie. This is only unique to the user. For a completely unique ID, you should use a combination of fullVisitorId and visitId.\n",
    "- visitNumber - The session number for this user. If this is the first session, then this is set to 1.\n",
    "- visitStartTime - The timestamp (expressed as POSIX time).\n",
    "- hits - This row and nested fields are populated for any and all types of hits. Provides a record of all page visits.\n",
    "- customDimensions - This section contains any user-level or session-level custom dimensions that are set for a session. This is a repeated field and has an entry for each dimension that is set."
   ]
  },
  {
   "cell_type": "markdown",
   "metadata": {},
   "source": [
    "## Objective\n",
    "\n",
    "-  To predict the total transaction revenue of each customer in Google Merchandise Store(G-Store).\n",
    "    - Feature Engineering and Feature Scaling\n",
    "    - Fit two regression algorithms on the dataset.\n",
    "        - Select hyperparametrs for each regression algorithm using Grid Search CV.\n",
    "    - Choose evaluation metric and evaluate the models based on train and test scores.\n",
    "    - Fit Clustering algorithm on the dataset.\n",
    "    - Perform Principal Component Analysis on the dataset.\n",
    "        - Fit the above two regression algorithms on the reduced dataset."
   ]
  },
  {
   "cell_type": "markdown",
   "metadata": {},
   "source": [
    "### Package & Data Import"
   ]
  },
  {
   "cell_type": "code",
   "execution_count": 1,
   "metadata": {},
   "outputs": [],
   "source": [
    "import numpy as np\n",
    "import pandas as pd\n",
    "import matplotlib.pyplot as plt\n",
    "import seaborn as sns\n",
    "import warnings\n",
    "warnings.filterwarnings('ignore')"
   ]
  },
  {
   "cell_type": "code",
   "execution_count": 2,
   "metadata": {},
   "outputs": [],
   "source": [
    "def todict(dic, key, value):\n",
    "    if key in dic:\n",
    "        dic[key].append(value)\n",
    "    else:\n",
    "        dic[key] = [value]\n",
    "    return dic\n",
    "\n",
    "\n",
    "def resolve_json(hitsdic, hits_json, key='NoneName'):\n",
    "    if type(hits_json) == list:\n",
    "        if len(hits_json) == 0:\n",
    "            pass\n",
    "        else:\n",
    "            for subjson in hits_json:\n",
    "                hitsdic = resolve_json(hitsdic, subjson)\n",
    "    elif type(hits_json) == dict:\n",
    "        for i in hits_json.keys():\n",
    "            hitsdic = resolve_json(hitsdic, hits_json[i],i)\n",
    "    else:\n",
    "        hitsdic = todict(hitsdic, key, hits_json)\n",
    "    return hitsdic\n",
    "\n",
    "\n",
    "def complex_replace(x):\n",
    "    dic = {}\n",
    "    return resolve_json(dic, json.loads(x.replace('\\'','\\\"'). \\\n",
    "                                        replace('TRUE','true'). \\\n",
    "                                        replace('True','true'). \\\n",
    "                                        replace('FALSE','false'). \\\n",
    "                                        replace('False','false'). \\\n",
    "                                        replace(', \\\"',', !&~'). \\\n",
    "                                        replace('\\\", ','!&~, '). \\\n",
    "                                        replace('\\\": ','!&~: '). \\\n",
    "                                        replace(': \\\"',': !&~'). \\\n",
    "                                        replace(' {\\\"',' {!&~'). \\\n",
    "                                        replace('\\\"}, ','!&~}, '). \\\n",
    "                                        replace('[{\\\"','[{!&~'). \\\n",
    "                                        replace('\\\"}]','!&~}]'). \\\n",
    "                                        replace('\\\"','_'). \\\n",
    "                                        replace('!&~','\\\"'). \\\n",
    "                                        encode('gbk','ignore'). \\\n",
    "                                        decode('utf-8','ignore'). \\\n",
    "                                        replace('\\\\','')))\n",
    "\n",
    "\n",
    "def replace(x):\n",
    "    return  json.loads(x.replace('\\'','\\\"').replace('False', 'false').replace('True'))\n"
   ]
  },
  {
   "cell_type": "code",
   "execution_count": 3,
   "metadata": {},
   "outputs": [],
   "source": [
    "df = pd.read_csv('data.csv',header=0,index_col=False)"
   ]
  },
  {
   "cell_type": "code",
   "execution_count": 4,
   "metadata": {},
   "outputs": [
    {
     "data": {
      "text/html": [
       "<div>\n",
       "<style scoped>\n",
       "    .dataframe tbody tr th:only-of-type {\n",
       "        vertical-align: middle;\n",
       "    }\n",
       "\n",
       "    .dataframe tbody tr th {\n",
       "        vertical-align: top;\n",
       "    }\n",
       "\n",
       "    .dataframe thead th {\n",
       "        text-align: right;\n",
       "    }\n",
       "</style>\n",
       "<table border=\"1\" class=\"dataframe\">\n",
       "  <thead>\n",
       "    <tr style=\"text-align: right;\">\n",
       "      <th></th>\n",
       "      <th>channelGrouping</th>\n",
       "      <th>customDimensions</th>\n",
       "      <th>date</th>\n",
       "      <th>device</th>\n",
       "      <th>fullVisitorId</th>\n",
       "      <th>geoNetwork</th>\n",
       "      <th>hits</th>\n",
       "      <th>socialEngagementType</th>\n",
       "      <th>trafficSource</th>\n",
       "      <th>visitId</th>\n",
       "      <th>...</th>\n",
       "      <th>totals_bounces</th>\n",
       "      <th>totals_hits</th>\n",
       "      <th>totals_newVisits</th>\n",
       "      <th>totals_pageviews</th>\n",
       "      <th>totals_sessionQualityDim</th>\n",
       "      <th>totals_timeOnSite</th>\n",
       "      <th>totals_totalTransactionRevenue</th>\n",
       "      <th>totals_transactionRevenue</th>\n",
       "      <th>totals_transactions</th>\n",
       "      <th>totals_visits</th>\n",
       "    </tr>\n",
       "  </thead>\n",
       "  <tbody>\n",
       "    <tr>\n",
       "      <th>0</th>\n",
       "      <td>Organic Search</td>\n",
       "      <td>[{'index': '4', 'value': 'EMEA'}]</td>\n",
       "      <td>20171016</td>\n",
       "      <td>{'mobileDeviceInfo': 'not available in demo da...</td>\n",
       "      <td>3162355547410993243</td>\n",
       "      <td>{'cityId': 'not available in demo dataset', 'm...</td>\n",
       "      <td>[{'hitNumber': '1', 'time': '0', 'hour': '17',...</td>\n",
       "      <td>Not Socially Engaged</td>\n",
       "      <td>{'campaign': '(not set)', 'source': 'google', ...</td>\n",
       "      <td>1508198450</td>\n",
       "      <td>...</td>\n",
       "      <td>1.0</td>\n",
       "      <td>1</td>\n",
       "      <td>1.0</td>\n",
       "      <td>1.0</td>\n",
       "      <td>1.0</td>\n",
       "      <td>NaN</td>\n",
       "      <td>NaN</td>\n",
       "      <td>NaN</td>\n",
       "      <td>NaN</td>\n",
       "      <td>1</td>\n",
       "    </tr>\n",
       "    <tr>\n",
       "      <th>1</th>\n",
       "      <td>Referral</td>\n",
       "      <td>[{'index': '4', 'value': 'North America'}]</td>\n",
       "      <td>20171016</td>\n",
       "      <td>{'mobileDeviceInfo': 'not available in demo da...</td>\n",
       "      <td>8934116514970143966</td>\n",
       "      <td>{'cityId': 'not available in demo dataset', 'm...</td>\n",
       "      <td>[{'hitNumber': '1', 'time': '0', 'hour': '10',...</td>\n",
       "      <td>Not Socially Engaged</td>\n",
       "      <td>{'referralPath': '/a/google.com/transportation...</td>\n",
       "      <td>1508176307</td>\n",
       "      <td>...</td>\n",
       "      <td>NaN</td>\n",
       "      <td>2</td>\n",
       "      <td>NaN</td>\n",
       "      <td>2.0</td>\n",
       "      <td>2.0</td>\n",
       "      <td>28.0</td>\n",
       "      <td>NaN</td>\n",
       "      <td>NaN</td>\n",
       "      <td>NaN</td>\n",
       "      <td>1</td>\n",
       "    </tr>\n",
       "    <tr>\n",
       "      <th>2</th>\n",
       "      <td>Direct</td>\n",
       "      <td>[{'index': '4', 'value': 'North America'}]</td>\n",
       "      <td>20171016</td>\n",
       "      <td>{'mobileDeviceInfo': 'not available in demo da...</td>\n",
       "      <td>7992466427990357681</td>\n",
       "      <td>{'cityId': 'not available in demo dataset', 'm...</td>\n",
       "      <td>[{'hitNumber': '1', 'time': '0', 'hour': '17',...</td>\n",
       "      <td>Not Socially Engaged</td>\n",
       "      <td>{'isTrueDirect': True, 'campaign': '(not set)'...</td>\n",
       "      <td>1508201613</td>\n",
       "      <td>...</td>\n",
       "      <td>NaN</td>\n",
       "      <td>2</td>\n",
       "      <td>1.0</td>\n",
       "      <td>2.0</td>\n",
       "      <td>1.0</td>\n",
       "      <td>38.0</td>\n",
       "      <td>NaN</td>\n",
       "      <td>NaN</td>\n",
       "      <td>NaN</td>\n",
       "      <td>1</td>\n",
       "    </tr>\n",
       "  </tbody>\n",
       "</table>\n",
       "<p>3 rows × 22 columns</p>\n",
       "</div>"
      ],
      "text/plain": [
       "  channelGrouping                            customDimensions      date  \\\n",
       "0  Organic Search           [{'index': '4', 'value': 'EMEA'}]  20171016   \n",
       "1        Referral  [{'index': '4', 'value': 'North America'}]  20171016   \n",
       "2          Direct  [{'index': '4', 'value': 'North America'}]  20171016   \n",
       "\n",
       "                                              device        fullVisitorId  \\\n",
       "0  {'mobileDeviceInfo': 'not available in demo da...  3162355547410993243   \n",
       "1  {'mobileDeviceInfo': 'not available in demo da...  8934116514970143966   \n",
       "2  {'mobileDeviceInfo': 'not available in demo da...  7992466427990357681   \n",
       "\n",
       "                                          geoNetwork  \\\n",
       "0  {'cityId': 'not available in demo dataset', 'm...   \n",
       "1  {'cityId': 'not available in demo dataset', 'm...   \n",
       "2  {'cityId': 'not available in demo dataset', 'm...   \n",
       "\n",
       "                                                hits  socialEngagementType  \\\n",
       "0  [{'hitNumber': '1', 'time': '0', 'hour': '17',...  Not Socially Engaged   \n",
       "1  [{'hitNumber': '1', 'time': '0', 'hour': '10',...  Not Socially Engaged   \n",
       "2  [{'hitNumber': '1', 'time': '0', 'hour': '17',...  Not Socially Engaged   \n",
       "\n",
       "                                       trafficSource     visitId  \\\n",
       "0  {'campaign': '(not set)', 'source': 'google', ...  1508198450   \n",
       "1  {'referralPath': '/a/google.com/transportation...  1508176307   \n",
       "2  {'isTrueDirect': True, 'campaign': '(not set)'...  1508201613   \n",
       "\n",
       "       ...        totals_bounces  totals_hits  totals_newVisits  \\\n",
       "0      ...                   1.0            1               1.0   \n",
       "1      ...                   NaN            2               NaN   \n",
       "2      ...                   NaN            2               1.0   \n",
       "\n",
       "   totals_pageviews  totals_sessionQualityDim  totals_timeOnSite  \\\n",
       "0               1.0                       1.0                NaN   \n",
       "1               2.0                       2.0               28.0   \n",
       "2               2.0                       1.0               38.0   \n",
       "\n",
       "   totals_totalTransactionRevenue  totals_transactionRevenue  \\\n",
       "0                             NaN                        NaN   \n",
       "1                             NaN                        NaN   \n",
       "2                             NaN                        NaN   \n",
       "\n",
       "   totals_transactions  totals_visits  \n",
       "0                  NaN              1  \n",
       "1                  NaN              1  \n",
       "2                  NaN              1  \n",
       "\n",
       "[3 rows x 22 columns]"
      ]
     },
     "execution_count": 4,
     "metadata": {},
     "output_type": "execute_result"
    }
   ],
   "source": [
    "df.head(3)"
   ]
  },
  {
   "cell_type": "markdown",
   "metadata": {},
   "source": [
    "### Feature Engineering & Exploratory Data Analysis"
   ]
  },
  {
   "cell_type": "code",
   "execution_count": 5,
   "metadata": {},
   "outputs": [
    {
     "name": "stdout",
     "output_type": "stream",
     "text": [
      "<class 'pandas.core.frame.DataFrame'>\n",
      "RangeIndex: 20000 entries, 0 to 19999\n",
      "Data columns (total 22 columns):\n",
      "channelGrouping                   20000 non-null object\n",
      "customDimensions                  20000 non-null object\n",
      "date                              20000 non-null int64\n",
      "device                            20000 non-null object\n",
      "fullVisitorId                     20000 non-null uint64\n",
      "geoNetwork                        20000 non-null object\n",
      "hits                              20000 non-null object\n",
      "socialEngagementType              20000 non-null object\n",
      "trafficSource                     20000 non-null object\n",
      "visitId                           20000 non-null int64\n",
      "visitNumber                       20000 non-null int64\n",
      "visitStartTime                    20000 non-null int64\n",
      "totals_bounces                    9873 non-null float64\n",
      "totals_hits                       20000 non-null int64\n",
      "totals_newVisits                  15088 non-null float64\n",
      "totals_pageviews                  19999 non-null float64\n",
      "totals_sessionQualityDim          9120 non-null float64\n",
      "totals_timeOnSite                 10101 non-null float64\n",
      "totals_totalTransactionRevenue    193 non-null float64\n",
      "totals_transactionRevenue         193 non-null float64\n",
      "totals_transactions               196 non-null float64\n",
      "totals_visits                     20000 non-null int64\n",
      "dtypes: float64(8), int64(6), object(7), uint64(1)\n",
      "memory usage: 3.4+ MB\n"
     ]
    }
   ],
   "source": [
    "df.info()"
   ]
  },
  {
   "cell_type": "code",
   "execution_count": 6,
   "metadata": {},
   "outputs": [],
   "source": [
    "for i in ['totals_bounces','totals_newVisits', 'totals_pageviews', 'totals_sessionQualityDim', 'totals_timeOnSite', 'totals_transactionRevenue', 'totals_transactions']:\n",
    "    df[i] = df[i].fillna(0)"
   ]
  },
  {
   "cell_type": "code",
   "execution_count": 7,
   "metadata": {},
   "outputs": [],
   "source": [
    "df_final = df[['totals_bounces','totals_hits','totals_newVisits','totals_pageviews','totals_sessionQualityDim','totals_timeOnSite','totals_transactionRevenue','totals_transactions']].copy()"
   ]
  },
  {
   "cell_type": "code",
   "execution_count": 8,
   "metadata": {},
   "outputs": [],
   "source": [
    "df_final = df_final.astype(int)"
   ]
  },
  {
   "cell_type": "code",
   "execution_count": 9,
   "metadata": {},
   "outputs": [
    {
     "name": "stdout",
     "output_type": "stream",
     "text": [
      "<class 'pandas.core.frame.DataFrame'>\n",
      "RangeIndex: 20000 entries, 0 to 19999\n",
      "Data columns (total 8 columns):\n",
      "totals_bounces               20000 non-null int32\n",
      "totals_hits                  20000 non-null int32\n",
      "totals_newVisits             20000 non-null int32\n",
      "totals_pageviews             20000 non-null int32\n",
      "totals_sessionQualityDim     20000 non-null int32\n",
      "totals_timeOnSite            20000 non-null int32\n",
      "totals_transactionRevenue    20000 non-null int32\n",
      "totals_transactions          20000 non-null int32\n",
      "dtypes: int32(8)\n",
      "memory usage: 625.1 KB\n"
     ]
    }
   ],
   "source": [
    "df_final.info()"
   ]
  },
  {
   "cell_type": "code",
   "execution_count": 10,
   "metadata": {},
   "outputs": [
    {
     "data": {
      "image/png": "[encoded data removed]",
      "text/plain": [
       "<Figure size 432x288 with 1 Axes>"
      ]
     },
     "metadata": {},
     "output_type": "display_data"
    }
   ],
   "source": [
    "sns.kdeplot(df['totals_transactionRevenue'])\n",
    "sns.set_style(\"whitegrid\")\n",
    "plt.show()"
   ]
  },
  {
   "cell_type": "code",
   "execution_count": 11,
   "metadata": {
    "scrolled": true
   },
   "outputs": [
    {
     "name": "stdout",
     "output_type": "stream",
     "text": [
      "Not Socially Engaged    20000\n",
      "Name: socialEngagementType, dtype: int64\n",
      "1    20000\n",
      "Name: totals_visits, dtype: int64\n"
     ]
    }
   ],
   "source": [
    "for i in ['socialEngagementType', 'totals_visits']:\n",
    "    print(df[i].value_counts())"
   ]
  },
  {
   "cell_type": "code",
   "execution_count": 12,
   "metadata": {
    "scrolled": true
   },
   "outputs": [
    {
     "data": {
      "text/plain": [
       "Organic Search    9535\n",
       "Social            3455\n",
       "Direct            3047\n",
       "Referral          2649\n",
       "Paid Search        527\n",
       "Affiliates         425\n",
       "Display            362\n",
       "Name: channelGrouping, dtype: int64"
      ]
     },
     "execution_count": 12,
     "metadata": {},
     "output_type": "execute_result"
    }
   ],
   "source": [
    "df['channelGrouping'].value_counts()"
   ]
  },
  {
   "cell_type": "code",
   "execution_count": 13,
   "metadata": {
    "scrolled": true
   },
   "outputs": [
    {
     "name": "stdout",
     "output_type": "stream",
     "text": [
      "<class 'pandas.core.frame.DataFrame'>\n",
      "RangeIndex: 20000 entries, 0 to 19999\n",
      "Data columns (total 7 columns):\n",
      "channelGrouping_Affiliates        20000 non-null uint8\n",
      "channelGrouping_Direct            20000 non-null uint8\n",
      "channelGrouping_Display           20000 non-null uint8\n",
      "channelGrouping_Organic Search    20000 non-null uint8\n",
      "channelGrouping_Paid Search       20000 non-null uint8\n",
      "channelGrouping_Referral          20000 non-null uint8\n",
      "channelGrouping_Social            20000 non-null uint8\n",
      "dtypes: uint8(7)\n",
      "memory usage: 136.8 KB\n"
     ]
    }
   ],
   "source": [
    "ChannelGrouping = pd.get_dummies(df['channelGrouping'],columns='channelGrouping',prefix='channelGrouping')\n",
    "ChannelGrouping.info()"
   ]
  },
  {
   "cell_type": "markdown",
   "metadata": {},
   "source": [
    "****Summary****\n",
    "\n",
    "- 'totals_bounces','totals_hits','totals_newVisits','totals_pageviews','totals_sessionQualityDim','totals_timeOnSite','totals_transactionRevenue','totals_transactions', 'channelGrouping' columns add value in total revenue prediction.\n",
    "- *socialEngagementType*, *totals_visits* columns have constant value, hence ignored.\n",
    "- Ignored *visitId*, *visitNumber*, *fullVisitorId*, *date*, *visitStartTime* columns since they doesn't add any information in predicting the outcome.\n",
    "- In the below features, the cell values are of json string format. These features have been converted into dataframe of multiple columns.\n",
    "    - geoNetwork\n",
    "    - device\n",
    "    - trafficSource\n",
    "    - hits\n",
    "    - customDimensions"
   ]
  },
  {
   "cell_type": "markdown",
   "metadata": {},
   "source": [
    "**1) GeoNetwork Column**"
   ]
  },
  {
   "cell_type": "code",
   "execution_count": 14,
   "metadata": {},
   "outputs": [
    {
     "data": {
      "text/html": [
       "<div>\n",
       "<style scoped>\n",
       "    .dataframe tbody tr th:only-of-type {\n",
       "        vertical-align: middle;\n",
       "    }\n",
       "\n",
       "    .dataframe tbody tr th {\n",
       "        vertical-align: top;\n",
       "    }\n",
       "\n",
       "    .dataframe thead th {\n",
       "        text-align: right;\n",
       "    }\n",
       "</style>\n",
       "<table border=\"1\" class=\"dataframe\">\n",
       "  <thead>\n",
       "    <tr style=\"text-align: right;\">\n",
       "      <th></th>\n",
       "      <th>city</th>\n",
       "      <th>cityId</th>\n",
       "      <th>continent</th>\n",
       "      <th>country</th>\n",
       "      <th>latitude</th>\n",
       "      <th>longitude</th>\n",
       "      <th>metro</th>\n",
       "      <th>networkDomain</th>\n",
       "      <th>networkLocation</th>\n",
       "      <th>region</th>\n",
       "      <th>subContinent</th>\n",
       "    </tr>\n",
       "  </thead>\n",
       "  <tbody>\n",
       "    <tr>\n",
       "      <th>0</th>\n",
       "      <td>not available in demo dataset</td>\n",
       "      <td>not available in demo dataset</td>\n",
       "      <td>Europe</td>\n",
       "      <td>Germany</td>\n",
       "      <td>not available in demo dataset</td>\n",
       "      <td>not available in demo dataset</td>\n",
       "      <td>not available in demo dataset</td>\n",
       "      <td>(not set)</td>\n",
       "      <td>not available in demo dataset</td>\n",
       "      <td>not available in demo dataset</td>\n",
       "      <td>Western Europe</td>\n",
       "    </tr>\n",
       "    <tr>\n",
       "      <th>1</th>\n",
       "      <td>Cupertino</td>\n",
       "      <td>not available in demo dataset</td>\n",
       "      <td>Americas</td>\n",
       "      <td>United States</td>\n",
       "      <td>not available in demo dataset</td>\n",
       "      <td>not available in demo dataset</td>\n",
       "      <td>San Francisco-Oakland-San Jose CA</td>\n",
       "      <td>(not set)</td>\n",
       "      <td>not available in demo dataset</td>\n",
       "      <td>California</td>\n",
       "      <td>Northern America</td>\n",
       "    </tr>\n",
       "  </tbody>\n",
       "</table>\n",
       "</div>"
      ],
      "text/plain": [
       "                            city                         cityId continent  \\\n",
       "0  not available in demo dataset  not available in demo dataset    Europe   \n",
       "1                      Cupertino  not available in demo dataset  Americas   \n",
       "\n",
       "         country                       latitude  \\\n",
       "0        Germany  not available in demo dataset   \n",
       "1  United States  not available in demo dataset   \n",
       "\n",
       "                       longitude                              metro  \\\n",
       "0  not available in demo dataset      not available in demo dataset   \n",
       "1  not available in demo dataset  San Francisco-Oakland-San Jose CA   \n",
       "\n",
       "  networkDomain                networkLocation                         region  \\\n",
       "0     (not set)  not available in demo dataset  not available in demo dataset   \n",
       "1     (not set)  not available in demo dataset                     California   \n",
       "\n",
       "       subContinent  \n",
       "0    Western Europe  \n",
       "1  Northern America  "
      ]
     },
     "execution_count": 14,
     "metadata": {},
     "output_type": "execute_result"
    }
   ],
   "source": [
    "geoNetwork = pd.io.json.json_normalize(df['geoNetwork'].apply(eval))\n",
    "geoNetwork.head(2)"
   ]
  },
  {
   "cell_type": "code",
   "execution_count": 15,
   "metadata": {},
   "outputs": [
    {
     "name": "stdout",
     "output_type": "stream",
     "text": [
      "<class 'pandas.core.frame.DataFrame'>\n",
      "RangeIndex: 20000 entries, 0 to 19999\n",
      "Data columns (total 11 columns):\n",
      "city               20000 non-null object\n",
      "cityId             20000 non-null object\n",
      "continent          20000 non-null object\n",
      "country            20000 non-null object\n",
      "latitude           20000 non-null object\n",
      "longitude          20000 non-null object\n",
      "metro              20000 non-null object\n",
      "networkDomain      20000 non-null object\n",
      "networkLocation    20000 non-null object\n",
      "region             20000 non-null object\n",
      "subContinent       20000 non-null object\n",
      "dtypes: object(11)\n",
      "memory usage: 1.7+ MB\n"
     ]
    }
   ],
   "source": [
    "geoNetwork.info()"
   ]
  },
  {
   "cell_type": "code",
   "execution_count": 16,
   "metadata": {},
   "outputs": [],
   "source": [
    "a = geoNetwork['country'].value_counts()\n",
    "b = geoNetwork['country'].isin(a.index[a<200])\n",
    "geoNetwork.loc[b, 'country'] = 'Others'"
   ]
  },
  {
   "cell_type": "code",
   "execution_count": 17,
   "metadata": {},
   "outputs": [],
   "source": [
    "geo_Ctry = geoNetwork['country'].value_counts()"
   ]
  },
  {
   "cell_type": "code",
   "execution_count": 18,
   "metadata": {},
   "outputs": [],
   "source": [
    "c = geoNetwork['subContinent'].value_counts()\n",
    "d = geoNetwork['subContinent'].isin(c.index[c<100])\n",
    "geoNetwork.loc[d, 'subContinent'] = 'Others'"
   ]
  },
  {
   "cell_type": "code",
   "execution_count": 19,
   "metadata": {},
   "outputs": [],
   "source": [
    "geo_Ntwrk =geoNetwork['subContinent'].value_counts()"
   ]
  },
  {
   "cell_type": "code",
   "execution_count": 20,
   "metadata": {},
   "outputs": [
    {
     "data": {
      "image/png": "[encoded data removed]",
      "text/plain": [
       "<Figure size 1800x720 with 2 Axes>"
      ]
     },
     "metadata": {},
     "output_type": "display_data"
    }
   ],
   "source": [
    "%matplotlib inline\n",
    "fig,(ax1,ax2) = plt.subplots(2,1,figsize=(25,10),sharex=False, sharey=False)\n",
    "index1 = geo_Ctry.index.unique()\n",
    "index2 = geo_Ntwrk.index.unique()\n",
    "y_pos1 = np.arange(len(index1))\n",
    "y_pos2 = np.arange(len(index2))\n",
    "bar_width=0.4\n",
    "bar_width2=0.35\n",
    "opacity=0.4\n",
    "# Total Count\n",
    "ax1.bar(y_pos1, geo_Ctry.values,bar_width,align='center',color='red',alpha=opacity)\n",
    "ax1.set_xticks(y_pos1)\n",
    "ax1.set_xticklabels(geo_Ctry.index)\n",
    "for i,j in zip(y_pos1,geo_Ctry.values):\n",
    "    ax1.annotate(str(j),xy=(i-0.15,j),color='black')\n",
    "#ax1.invert_yaxis()  # labels read top-to-bottom\n",
    "ax1.set_facecolor('aliceblue')\n",
    "ax1.set_ylabel('Count')\n",
    "ax1.set_xlabel('Country')\n",
    "ax1.set_title('Geo Network - Country Distribution')\n",
    "# Non Zero Revenue Count\n",
    "ax2.bar(y_pos2, geo_Ntwrk.values,bar_width2,align='center',color='green',alpha=opacity)\n",
    "ax2.set_xticks(y_pos2)\n",
    "ax2.set_xticklabels(geo_Ntwrk.index)\n",
    "for i,j in zip(y_pos1,geo_Ntwrk.values):\n",
    "    ax2.annotate(str(j),xy=(i-0.06,j),color='black')\n",
    "ax2.set_xlabel('Sub-Continent')\n",
    "ax2.set_ylabel('Count')\n",
    "\n",
    "ax2.set_title('Geo Network - Sub Continent Distribution')\n",
    "ax2.set_facecolor('aliceblue')\n",
    "plt.tight_layout()\n",
    "plt.show()"
   ]
  },
  {
   "cell_type": "markdown",
   "metadata": {},
   "source": [
    "It can be seen from the above graph that Northern America Subcontinent has highest count and within Northern America, United States records the most number of customers visiting G-store."
   ]
  },
  {
   "cell_type": "code",
   "execution_count": 21,
   "metadata": {},
   "outputs": [
    {
     "name": "stdout",
     "output_type": "stream",
     "text": [
      "['latitude column values : not available in demo dataset']\n",
      "['longitude column values : not available in demo dataset']\n",
      "['networkLocation column values : not available in demo dataset']\n"
     ]
    }
   ],
   "source": [
    "for i in ['latitude', 'longitude', 'networkLocation']:\n",
    "    print(i + \" column values : \" + geoNetwork[i].unique())"
   ]
  },
  {
   "cell_type": "code",
   "execution_count": 22,
   "metadata": {},
   "outputs": [
    {
     "name": "stdout",
     "output_type": "stream",
     "text": [
      "(not set)          5849\n",
      "unknown.unknown    2937\n",
      "Name: networkDomain, dtype: int64\n",
      "# Unique Values :2516\n",
      "not available in demo dataset    11342\n",
      "Mountain View                      942\n",
      "Name: city, dtype: int64\n",
      "# Unique Values :162\n",
      "not available in demo dataset    11342\n",
      "California                        2542\n",
      "Name: region, dtype: int64\n",
      "# Unique Values :125\n",
      "not available in demo dataset    11342\n",
      "(not set)                         4020\n",
      "Name: metro, dtype: int64\n",
      "# Unique Values :32\n"
     ]
    }
   ],
   "source": [
    "for i in ['networkDomain', 'city', 'region', 'metro']:\n",
    "    print(geoNetwork[i].value_counts().nlargest(2))\n",
    "    print(\"# Unique Values :\" + str(geoNetwork[i].nunique()))"
   ]
  },
  {
   "cell_type": "markdown",
   "metadata": {},
   "source": [
    "****Summary****\n",
    "- *country* and *subContinent* columns provide information in predicting total revenue.\n",
    "    - Countries having count less than 200 are marked as 'Others' in 'country' column.\n",
    "    - Subcontinents having count less than 100 are marked as 'Others' in 'subContinent' column.\n",
    "- Since *continent* provides same amount of information as *subContinent*, it is ignored.\n",
    "- *latitude*, *longitude*, *networkLocation* columns have constant value('not available in demo dataset'), hence ignored.\n",
    "- *networkDomain*, *city*, *region*, *metro* columns have more than 50% of unknown values, hence ignored.\n",
    "- Ignored *cityId* since it doesn't add any information in predicting outcome."
   ]
  },
  {
   "cell_type": "markdown",
   "metadata": {},
   "source": [
    "*Creating Dummy Variables for 'country' and 'subContinent' columns*"
   ]
  },
  {
   "cell_type": "code",
   "execution_count": 23,
   "metadata": {},
   "outputs": [
    {
     "name": "stdout",
     "output_type": "stream",
     "text": [
      "<class 'pandas.core.frame.DataFrame'>\n",
      "RangeIndex: 20000 entries, 0 to 19999\n",
      "Data columns (total 14 columns):\n",
      "subContinent_Australasia         20000 non-null uint8\n",
      "subContinent_Central America     20000 non-null uint8\n",
      "subContinent_Eastern Asia        20000 non-null uint8\n",
      "subContinent_Eastern Europe      20000 non-null uint8\n",
      "subContinent_Northern Africa     20000 non-null uint8\n",
      "subContinent_Northern America    20000 non-null uint8\n",
      "subContinent_Northern Europe     20000 non-null uint8\n",
      "subContinent_Others              20000 non-null uint8\n",
      "subContinent_South America       20000 non-null uint8\n",
      "subContinent_Southeast Asia      20000 non-null uint8\n",
      "subContinent_Southern Asia       20000 non-null uint8\n",
      "subContinent_Southern Europe     20000 non-null uint8\n",
      "subContinent_Western Asia        20000 non-null uint8\n",
      "subContinent_Western Europe      20000 non-null uint8\n",
      "dtypes: uint8(14)\n",
      "memory usage: 273.5 KB\n"
     ]
    }
   ],
   "source": [
    "SubContinent = pd.get_dummies(geoNetwork['subContinent'],columns='subContinent',prefix='subContinent')\n",
    "SubContinent.info()"
   ]
  },
  {
   "cell_type": "code",
   "execution_count": 24,
   "metadata": {},
   "outputs": [
    {
     "name": "stdout",
     "output_type": "stream",
     "text": [
      "<class 'pandas.core.frame.DataFrame'>\n",
      "RangeIndex: 20000 entries, 0 to 19999\n",
      "Data columns (total 19 columns):\n",
      "country_Australia         20000 non-null uint8\n",
      "country_Brazil            20000 non-null uint8\n",
      "country_Canada            20000 non-null uint8\n",
      "country_France            20000 non-null uint8\n",
      "country_Germany           20000 non-null uint8\n",
      "country_India             20000 non-null uint8\n",
      "country_Italy             20000 non-null uint8\n",
      "country_Japan             20000 non-null uint8\n",
      "country_Mexico            20000 non-null uint8\n",
      "country_Netherlands       20000 non-null uint8\n",
      "country_Others            20000 non-null uint8\n",
      "country_Poland            20000 non-null uint8\n",
      "country_Russia            20000 non-null uint8\n",
      "country_Spain             20000 non-null uint8\n",
      "country_Taiwan            20000 non-null uint8\n",
      "country_Thailand          20000 non-null uint8\n",
      "country_Turkey            20000 non-null uint8\n",
      "country_United Kingdom    20000 non-null uint8\n",
      "country_United States     20000 non-null uint8\n",
      "dtypes: uint8(19)\n",
      "memory usage: 371.2 KB\n"
     ]
    }
   ],
   "source": [
    "Country = pd.get_dummies(geoNetwork['country'],columns='country',prefix='country')\n",
    "Country.info()"
   ]
  },
  {
   "cell_type": "markdown",
   "metadata": {},
   "source": [
    "**2) Device Column**"
   ]
  },
  {
   "cell_type": "code",
   "execution_count": 25,
   "metadata": {},
   "outputs": [
    {
     "data": {
      "text/html": [
       "<div>\n",
       "<style scoped>\n",
       "    .dataframe tbody tr th:only-of-type {\n",
       "        vertical-align: middle;\n",
       "    }\n",
       "\n",
       "    .dataframe tbody tr th {\n",
       "        vertical-align: top;\n",
       "    }\n",
       "\n",
       "    .dataframe thead th {\n",
       "        text-align: right;\n",
       "    }\n",
       "</style>\n",
       "<table border=\"1\" class=\"dataframe\">\n",
       "  <thead>\n",
       "    <tr style=\"text-align: right;\">\n",
       "      <th></th>\n",
       "      <th>browser</th>\n",
       "      <th>browserSize</th>\n",
       "      <th>browserVersion</th>\n",
       "      <th>deviceCategory</th>\n",
       "      <th>flashVersion</th>\n",
       "      <th>isMobile</th>\n",
       "      <th>language</th>\n",
       "      <th>mobileDeviceBranding</th>\n",
       "      <th>mobileDeviceInfo</th>\n",
       "      <th>mobileDeviceMarketingName</th>\n",
       "      <th>mobileDeviceModel</th>\n",
       "      <th>mobileInputSelector</th>\n",
       "      <th>operatingSystem</th>\n",
       "      <th>operatingSystemVersion</th>\n",
       "      <th>screenColors</th>\n",
       "      <th>screenResolution</th>\n",
       "    </tr>\n",
       "  </thead>\n",
       "  <tbody>\n",
       "    <tr>\n",
       "      <th>0</th>\n",
       "      <td>Firefox</td>\n",
       "      <td>not available in demo dataset</td>\n",
       "      <td>not available in demo dataset</td>\n",
       "      <td>desktop</td>\n",
       "      <td>not available in demo dataset</td>\n",
       "      <td>False</td>\n",
       "      <td>not available in demo dataset</td>\n",
       "      <td>not available in demo dataset</td>\n",
       "      <td>not available in demo dataset</td>\n",
       "      <td>not available in demo dataset</td>\n",
       "      <td>not available in demo dataset</td>\n",
       "      <td>not available in demo dataset</td>\n",
       "      <td>Windows</td>\n",
       "      <td>not available in demo dataset</td>\n",
       "      <td>not available in demo dataset</td>\n",
       "      <td>not available in demo dataset</td>\n",
       "    </tr>\n",
       "    <tr>\n",
       "      <th>1</th>\n",
       "      <td>Chrome</td>\n",
       "      <td>not available in demo dataset</td>\n",
       "      <td>not available in demo dataset</td>\n",
       "      <td>desktop</td>\n",
       "      <td>not available in demo dataset</td>\n",
       "      <td>False</td>\n",
       "      <td>not available in demo dataset</td>\n",
       "      <td>not available in demo dataset</td>\n",
       "      <td>not available in demo dataset</td>\n",
       "      <td>not available in demo dataset</td>\n",
       "      <td>not available in demo dataset</td>\n",
       "      <td>not available in demo dataset</td>\n",
       "      <td>Chrome OS</td>\n",
       "      <td>not available in demo dataset</td>\n",
       "      <td>not available in demo dataset</td>\n",
       "      <td>not available in demo dataset</td>\n",
       "    </tr>\n",
       "  </tbody>\n",
       "</table>\n",
       "</div>"
      ],
      "text/plain": [
       "   browser                    browserSize                 browserVersion  \\\n",
       "0  Firefox  not available in demo dataset  not available in demo dataset   \n",
       "1   Chrome  not available in demo dataset  not available in demo dataset   \n",
       "\n",
       "  deviceCategory                   flashVersion  isMobile  \\\n",
       "0        desktop  not available in demo dataset     False   \n",
       "1        desktop  not available in demo dataset     False   \n",
       "\n",
       "                        language           mobileDeviceBranding  \\\n",
       "0  not available in demo dataset  not available in demo dataset   \n",
       "1  not available in demo dataset  not available in demo dataset   \n",
       "\n",
       "                mobileDeviceInfo      mobileDeviceMarketingName  \\\n",
       "0  not available in demo dataset  not available in demo dataset   \n",
       "1  not available in demo dataset  not available in demo dataset   \n",
       "\n",
       "               mobileDeviceModel            mobileInputSelector  \\\n",
       "0  not available in demo dataset  not available in demo dataset   \n",
       "1  not available in demo dataset  not available in demo dataset   \n",
       "\n",
       "  operatingSystem         operatingSystemVersion  \\\n",
       "0         Windows  not available in demo dataset   \n",
       "1       Chrome OS  not available in demo dataset   \n",
       "\n",
       "                    screenColors               screenResolution  \n",
       "0  not available in demo dataset  not available in demo dataset  \n",
       "1  not available in demo dataset  not available in demo dataset  "
      ]
     },
     "execution_count": 25,
     "metadata": {},
     "output_type": "execute_result"
    }
   ],
   "source": [
    "device = pd.io.json.json_normalize(df['device'].apply(eval))\n",
    "device.head(2)"
   ]
  },
  {
   "cell_type": "code",
   "execution_count": 26,
   "metadata": {},
   "outputs": [
    {
     "name": "stdout",
     "output_type": "stream",
     "text": [
      "<class 'pandas.core.frame.DataFrame'>\n",
      "RangeIndex: 20000 entries, 0 to 19999\n",
      "Data columns (total 16 columns):\n",
      "browser                      20000 non-null object\n",
      "browserSize                  20000 non-null object\n",
      "browserVersion               20000 non-null object\n",
      "deviceCategory               20000 non-null object\n",
      "flashVersion                 20000 non-null object\n",
      "isMobile                     20000 non-null bool\n",
      "language                     20000 non-null object\n",
      "mobileDeviceBranding         20000 non-null object\n",
      "mobileDeviceInfo             20000 non-null object\n",
      "mobileDeviceMarketingName    20000 non-null object\n",
      "mobileDeviceModel            20000 non-null object\n",
      "mobileInputSelector          20000 non-null object\n",
      "operatingSystem              20000 non-null object\n",
      "operatingSystemVersion       20000 non-null object\n",
      "screenColors                 20000 non-null object\n",
      "screenResolution             20000 non-null object\n",
      "dtypes: bool(1), object(15)\n",
      "memory usage: 2.3+ MB\n"
     ]
    }
   ],
   "source": [
    "device.info()"
   ]
  },
  {
   "cell_type": "code",
   "execution_count": 27,
   "metadata": {},
   "outputs": [],
   "source": [
    "df_device = pd.concat([df, device],axis=1)"
   ]
  },
  {
   "cell_type": "code",
   "execution_count": 28,
   "metadata": {},
   "outputs": [],
   "source": [
    "# Device Browser\n",
    "df_brwsr = df_device.groupby(['browser'])['totals_totalTransactionRevenue'].agg(['size','count']).sort_values(by=\"size\",ascending=False)\n",
    "df_brwsr.columns =[\"total revenue record count\",\"count of non zero revenue\"]\n",
    "df_brwsr.fillna(value=0,inplace=True)\n",
    "df_brwsr\n",
    "# Device Category\n",
    "df_catgry = df_device.groupby(['deviceCategory'])['totals_totalTransactionRevenue'].agg(['size','count']).sort_values(by=\"size\",ascending=False)\n",
    "df_catgry.columns =[\"total revenue record count\",\"count of non zero revenue\"]\n",
    "df_catgry.fillna(value=0,inplace=True)\n",
    "df_catgry\n",
    "# Device OS\n",
    "df_os = df_device.groupby(['operatingSystem'])['totals_totalTransactionRevenue'].agg(['size','count']).sort_values(by=\"size\",ascending=False)\n",
    "df_os.columns =[\"total revenue record count\",\"count of non zero revenue\"]\n",
    "df_os.fillna(value=0,inplace=True)"
   ]
  },
  {
   "cell_type": "code",
   "execution_count": 29,
   "metadata": {},
   "outputs": [],
   "source": [
    "def device_barplots(df,title):\n",
    "    %matplotlib inline\n",
    "    fig,(ax1,ax2) = plt.subplots(1,2,figsize=(30,8),sharey=False,facecolor='silver')\n",
    "    index = df.index.unique()\n",
    "    y_pos = np.arange(len(index))\n",
    "    bar_width=0.7\n",
    "    # Total Count\n",
    "    ax1.barh(y_pos, df['total revenue record count'],bar_width,align='center',color='black',alpha=0.5)\n",
    "    ax1.set_yticks(y_pos)\n",
    "    ax1.set_yticklabels(df.index)\n",
    "    ax1.invert_yaxis()  # labels read top-to-bottom\n",
    "   # ax1.set_xlabel('Performance')\n",
    "    ax1.set_title('Total Revenue record count by '+title)\n",
    "    # Non Zero Revenue Count\n",
    "    ax2.barh(y_pos, df['count of non zero revenue'],bar_width,align='center',color='slategray',alpha=0.8)\n",
    "    ax2.set_yticks(y_pos)\n",
    "    ax2.set_yticklabels(df.index)\n",
    "    ax2.invert_yaxis()  # labels read top-to-bottom\n",
    "   # ax2.set_xlabel('Performance')\n",
    "    ax2.set_title('Total Non Zero Revenue record count by '+title)\n",
    "    plt.show()"
   ]
  },
  {
   "cell_type": "code",
   "execution_count": 30,
   "metadata": {
    "scrolled": true
   },
   "outputs": [
    {
     "data": {
      "image/png": "[encoded data removed]",
      "text/plain": [
       "<Figure size 2160x576 with 2 Axes>"
      ]
     },
     "metadata": {},
     "output_type": "display_data"
    },
    {
     "data": {
      "image/png": "[encoded data removed]",
      "text/plain": [
       "<Figure size 2160x576 with 2 Axes>"
      ]
     },
     "metadata": {},
     "output_type": "display_data"
    },
    {
     "data": {
      "image/png": "[encoded data removed]",
      "text/plain": [
       "<Figure size 2160x576 with 2 Axes>"
      ]
     },
     "metadata": {},
     "output_type": "display_data"
    }
   ],
   "source": [
    "device_barplots(df_brwsr,'Browser')\n",
    "device_barplots(df_catgry,'Device Category')\n",
    "device_barplots(df_os,'Operating System')"
   ]
  },
  {
   "cell_type": "markdown",
   "metadata": {},
   "source": [
    "Total Revenue record count and Total Non zero Revenue record count is highest for Chrome browser, Desktop and Windows operating system."
   ]
  },
  {
   "cell_type": "code",
   "execution_count": 31,
   "metadata": {},
   "outputs": [],
   "source": [
    "e = device['browser'].value_counts()\n",
    "f = device['browser'].isin(e.index[e<200])\n",
    "device.loc[f, 'browser'] = 'Others'"
   ]
  },
  {
   "cell_type": "code",
   "execution_count": 32,
   "metadata": {},
   "outputs": [
    {
     "data": {
      "text/plain": [
       "Chrome               13978\n",
       "Safari                3340\n",
       "Firefox                829\n",
       "Others                 756\n",
       "Internet Explorer      530\n",
       "Android Webview        300\n",
       "Edge                   267\n",
       "Name: browser, dtype: int64"
      ]
     },
     "execution_count": 32,
     "metadata": {},
     "output_type": "execute_result"
    }
   ],
   "source": [
    "device['browser'].value_counts()"
   ]
  },
  {
   "cell_type": "code",
   "execution_count": 33,
   "metadata": {},
   "outputs": [
    {
     "data": {
      "text/plain": [
       "desktop    13988\n",
       "mobile      5284\n",
       "tablet       728\n",
       "Name: deviceCategory, dtype: int64"
      ]
     },
     "execution_count": 33,
     "metadata": {},
     "output_type": "execute_result"
    }
   ],
   "source": [
    "device['deviceCategory'].value_counts()"
   ]
  },
  {
   "cell_type": "code",
   "execution_count": 34,
   "metadata": {},
   "outputs": [],
   "source": [
    "g = device['operatingSystem'].value_counts()\n",
    "h = device['operatingSystem'].isin(g.index[g<200])\n",
    "device.loc[h, 'operatingSystem'] = 'Others'"
   ]
  },
  {
   "cell_type": "code",
   "execution_count": 35,
   "metadata": {},
   "outputs": [
    {
     "data": {
      "text/plain": [
       "Windows      7651\n",
       "Macintosh    4928\n",
       "Android      3205\n",
       "iOS          2583\n",
       "Linux         812\n",
       "Chrome OS     620\n",
       "Others        201\n",
       "Name: operatingSystem, dtype: int64"
      ]
     },
     "execution_count": 35,
     "metadata": {},
     "output_type": "execute_result"
    }
   ],
   "source": [
    "device['operatingSystem'].value_counts()"
   ]
  },
  {
   "cell_type": "code",
   "execution_count": 36,
   "metadata": {},
   "outputs": [
    {
     "name": "stdout",
     "output_type": "stream",
     "text": [
      "['browserSize column unique values : not available in demo dataset']\n",
      "['browserVersion column unique values : not available in demo dataset']\n",
      "['flashVersion column unique values : not available in demo dataset']\n",
      "['language column unique values : not available in demo dataset']\n",
      "['mobileDeviceBranding column unique values : not available in demo dataset']\n",
      "['mobileDeviceInfo column unique values : not available in demo dataset']\n",
      "['mobileDeviceMarketingName column unique values : not available in demo dataset']\n",
      "['mobileDeviceModel column unique values : not available in demo dataset']\n",
      "['mobileInputSelector column unique values : not available in demo dataset']\n",
      "['operatingSystemVersion column unique values : not available in demo dataset']\n",
      "['screenColors column unique values : not available in demo dataset']\n",
      "['screenResolution column unique values : not available in demo dataset']\n"
     ]
    }
   ],
   "source": [
    "for i in ['browserSize', 'browserVersion', 'flashVersion', 'language', 'mobileDeviceBranding', 'mobileDeviceInfo', 'mobileDeviceMarketingName', 'mobileDeviceModel', 'mobileInputSelector', 'operatingSystemVersion', 'screenColors', 'screenResolution']:\n",
    "    print(i + \" column unique values : \" + device[i].unique())"
   ]
  },
  {
   "cell_type": "markdown",
   "metadata": {},
   "source": [
    "****Summary****\n",
    "\n",
    "- *browser*, *deviceCategory* and *operatingSystem* columns provide valuable information in predicting total revenue.\n",
    "    - Browsers and Operating systems having count less than 200 are marked as 'Others' in 'browser' and 'operatingSystem' columns.\n",
    "- Since *isMobile* column provides same information as *deviceCategory*, it is ignored.\n",
    "- browserSize, browserVersion, flashVersion, language, mobileDeviceBranding, mobileDeviceInfo, mobileDeviceMarketingName, mobileDeviceModel, mobileInputSelector, operatingSystemVersion, screenColors, screenResolution columns have constant value('not available in demo dataset'), hence ignored."
   ]
  },
  {
   "cell_type": "markdown",
   "metadata": {},
   "source": [
    "*Creating Dummy Variables for 'browser', 'deviceCategory' and 'operatingSystem' columns*"
   ]
  },
  {
   "cell_type": "code",
   "execution_count": 37,
   "metadata": {},
   "outputs": [
    {
     "name": "stdout",
     "output_type": "stream",
     "text": [
      "<class 'pandas.core.frame.DataFrame'>\n",
      "RangeIndex: 20000 entries, 0 to 19999\n",
      "Data columns (total 7 columns):\n",
      "browser_Android Webview      20000 non-null uint8\n",
      "browser_Chrome               20000 non-null uint8\n",
      "browser_Edge                 20000 non-null uint8\n",
      "browser_Firefox              20000 non-null uint8\n",
      "browser_Internet Explorer    20000 non-null uint8\n",
      "browser_Others               20000 non-null uint8\n",
      "browser_Safari               20000 non-null uint8\n",
      "dtypes: uint8(7)\n",
      "memory usage: 136.8 KB\n"
     ]
    }
   ],
   "source": [
    "Browser = pd.get_dummies(device['browser'],columns='browser',prefix='browser')\n",
    "Browser.info()"
   ]
  },
  {
   "cell_type": "code",
   "execution_count": 38,
   "metadata": {},
   "outputs": [
    {
     "name": "stdout",
     "output_type": "stream",
     "text": [
      "<class 'pandas.core.frame.DataFrame'>\n",
      "RangeIndex: 20000 entries, 0 to 19999\n",
      "Data columns (total 3 columns):\n",
      "deviceCategory_desktop    20000 non-null uint8\n",
      "deviceCategory_mobile     20000 non-null uint8\n",
      "deviceCategory_tablet     20000 non-null uint8\n",
      "dtypes: uint8(3)\n",
      "memory usage: 58.7 KB\n"
     ]
    }
   ],
   "source": [
    "DeviceCategory = pd.get_dummies(device['deviceCategory'],columns='deviceCategory',prefix='deviceCategory')\n",
    "DeviceCategory.info()"
   ]
  },
  {
   "cell_type": "code",
   "execution_count": 39,
   "metadata": {},
   "outputs": [
    {
     "name": "stdout",
     "output_type": "stream",
     "text": [
      "<class 'pandas.core.frame.DataFrame'>\n",
      "RangeIndex: 20000 entries, 0 to 19999\n",
      "Data columns (total 7 columns):\n",
      "operatingSystem_Android      20000 non-null uint8\n",
      "operatingSystem_Chrome OS    20000 non-null uint8\n",
      "operatingSystem_Linux        20000 non-null uint8\n",
      "operatingSystem_Macintosh    20000 non-null uint8\n",
      "operatingSystem_Others       20000 non-null uint8\n",
      "operatingSystem_Windows      20000 non-null uint8\n",
      "operatingSystem_iOS          20000 non-null uint8\n",
      "dtypes: uint8(7)\n",
      "memory usage: 136.8 KB\n"
     ]
    }
   ],
   "source": [
    "OperatingSystem = pd.get_dummies(device['operatingSystem'],columns='operatingSystem',prefix='operatingSystem')\n",
    "OperatingSystem.info()"
   ]
  },
  {
   "cell_type": "markdown",
   "metadata": {},
   "source": [
    "**3) Traffic Source**"
   ]
  },
  {
   "cell_type": "code",
   "execution_count": 40,
   "metadata": {},
   "outputs": [
    {
     "data": {
      "text/html": [
       "<div>\n",
       "<style scoped>\n",
       "    .dataframe tbody tr th:only-of-type {\n",
       "        vertical-align: middle;\n",
       "    }\n",
       "\n",
       "    .dataframe tbody tr th {\n",
       "        vertical-align: top;\n",
       "    }\n",
       "\n",
       "    .dataframe thead th {\n",
       "        text-align: right;\n",
       "    }\n",
       "</style>\n",
       "<table border=\"1\" class=\"dataframe\">\n",
       "  <thead>\n",
       "    <tr style=\"text-align: right;\">\n",
       "      <th></th>\n",
       "      <th>adContent</th>\n",
       "      <th>adwordsClickInfo.adNetworkType</th>\n",
       "      <th>adwordsClickInfo.criteriaParameters</th>\n",
       "      <th>adwordsClickInfo.gclId</th>\n",
       "      <th>adwordsClickInfo.isVideoAd</th>\n",
       "      <th>adwordsClickInfo.page</th>\n",
       "      <th>adwordsClickInfo.slot</th>\n",
       "      <th>campaign</th>\n",
       "      <th>isTrueDirect</th>\n",
       "      <th>keyword</th>\n",
       "      <th>medium</th>\n",
       "      <th>referralPath</th>\n",
       "      <th>source</th>\n",
       "    </tr>\n",
       "  </thead>\n",
       "  <tbody>\n",
       "    <tr>\n",
       "      <th>0</th>\n",
       "      <td>NaN</td>\n",
       "      <td>NaN</td>\n",
       "      <td>not available in demo dataset</td>\n",
       "      <td>NaN</td>\n",
       "      <td>NaN</td>\n",
       "      <td>NaN</td>\n",
       "      <td>NaN</td>\n",
       "      <td>(not set)</td>\n",
       "      <td>NaN</td>\n",
       "      <td>water bottle</td>\n",
       "      <td>organic</td>\n",
       "      <td>NaN</td>\n",
       "      <td>google</td>\n",
       "    </tr>\n",
       "    <tr>\n",
       "      <th>1</th>\n",
       "      <td>NaN</td>\n",
       "      <td>NaN</td>\n",
       "      <td>not available in demo dataset</td>\n",
       "      <td>NaN</td>\n",
       "      <td>NaN</td>\n",
       "      <td>NaN</td>\n",
       "      <td>NaN</td>\n",
       "      <td>(not set)</td>\n",
       "      <td>NaN</td>\n",
       "      <td>NaN</td>\n",
       "      <td>referral</td>\n",
       "      <td>/a/google.com/transportation/mtv-services/bike...</td>\n",
       "      <td>sites.google.com</td>\n",
       "    </tr>\n",
       "  </tbody>\n",
       "</table>\n",
       "</div>"
      ],
      "text/plain": [
       "  adContent adwordsClickInfo.adNetworkType  \\\n",
       "0       NaN                            NaN   \n",
       "1       NaN                            NaN   \n",
       "\n",
       "  adwordsClickInfo.criteriaParameters adwordsClickInfo.gclId  \\\n",
       "0       not available in demo dataset                    NaN   \n",
       "1       not available in demo dataset                    NaN   \n",
       "\n",
       "  adwordsClickInfo.isVideoAd adwordsClickInfo.page adwordsClickInfo.slot  \\\n",
       "0                        NaN                   NaN                   NaN   \n",
       "1                        NaN                   NaN                   NaN   \n",
       "\n",
       "    campaign isTrueDirect       keyword    medium  \\\n",
       "0  (not set)          NaN  water bottle   organic   \n",
       "1  (not set)          NaN           NaN  referral   \n",
       "\n",
       "                                        referralPath            source  \n",
       "0                                                NaN            google  \n",
       "1  /a/google.com/transportation/mtv-services/bike...  sites.google.com  "
      ]
     },
     "execution_count": 40,
     "metadata": {},
     "output_type": "execute_result"
    }
   ],
   "source": [
    "trafficSource = pd.io.json.json_normalize(df['trafficSource'].apply(eval))\n",
    "trafficSource.head(2)"
   ]
  },
  {
   "cell_type": "code",
   "execution_count": 41,
   "metadata": {},
   "outputs": [
    {
     "name": "stdout",
     "output_type": "stream",
     "text": [
      "<class 'pandas.core.frame.DataFrame'>\n",
      "RangeIndex: 20000 entries, 0 to 19999\n",
      "Data columns (total 13 columns):\n",
      "adContent                              521 non-null object\n",
      "adwordsClickInfo.adNetworkType         630 non-null object\n",
      "adwordsClickInfo.criteriaParameters    20000 non-null object\n",
      "adwordsClickInfo.gclId                 633 non-null object\n",
      "adwordsClickInfo.isVideoAd             630 non-null object\n",
      "adwordsClickInfo.page                  630 non-null object\n",
      "adwordsClickInfo.slot                  630 non-null object\n",
      "campaign                               20000 non-null object\n",
      "isTrueDirect                           6333 non-null object\n",
      "keyword                                6790 non-null object\n",
      "medium                                 20000 non-null object\n",
      "referralPath                           6104 non-null object\n",
      "source                                 20000 non-null object\n",
      "dtypes: object(13)\n",
      "memory usage: 2.0+ MB\n"
     ]
    }
   ],
   "source": [
    "trafficSource.info()"
   ]
  },
  {
   "cell_type": "code",
   "execution_count": 42,
   "metadata": {
    "scrolled": true
   },
   "outputs": [
    {
     "name": "stdout",
     "output_type": "stream",
     "text": [
      "['adwordsClickInfo.criteriaParameters column values : not available in demo dataset']\n"
     ]
    }
   ],
   "source": [
    "for i in ['adwordsClickInfo.criteriaParameters']:\n",
    "    print(i + \" column values : \" + trafficSource[i].unique())"
   ]
  },
  {
   "cell_type": "code",
   "execution_count": 43,
   "metadata": {},
   "outputs": [
    {
     "name": "stdout",
     "output_type": "stream",
     "text": [
      "(not set)    19058\n",
      "Name: campaign, dtype: int64\n",
      "(not provided)    6131\n",
      "Name: keyword, dtype: int64\n",
      "/    1709\n",
      "Name: referralPath, dtype: int64\n"
     ]
    }
   ],
   "source": [
    "for i in ['campaign', 'keyword', 'referralPath']:\n",
    "    print(trafficSource[i].value_counts().nlargest(1))"
   ]
  },
  {
   "cell_type": "code",
   "execution_count": 44,
   "metadata": {},
   "outputs": [],
   "source": [
    "trafficSource['source'] = trafficSource['source'].replace(['(direct)','youtube.com','analytics.google.com','google.com','sites.google.com'], ['direct','youtube','Google Analytics','google','google'])"
   ]
  },
  {
   "cell_type": "code",
   "execution_count": 45,
   "metadata": {},
   "outputs": [],
   "source": [
    "i = trafficSource['source'].value_counts()\n",
    "j = trafficSource['source'].isin(i.index[i<200])\n",
    "trafficSource.loc[j, 'source'] = 'Others'"
   ]
  },
  {
   "cell_type": "code",
   "execution_count": 46,
   "metadata": {},
   "outputs": [],
   "source": [
    "trafficSource['medium'] = trafficSource['medium'].replace('(none)','None')"
   ]
  },
  {
   "cell_type": "code",
   "execution_count": 47,
   "metadata": {},
   "outputs": [],
   "source": [
    "tf1_src =pd.DataFrame(trafficSource['source'].value_counts())\n",
    "tf1_medium = pd.DataFrame(trafficSource['medium'].value_counts())"
   ]
  },
  {
   "cell_type": "code",
   "execution_count": 48,
   "metadata": {},
   "outputs": [
    {
     "data": {
      "image/png": "[encoded data removed]",
      "text/plain": [
       "<Figure size 1440x1080 with 2 Axes>"
      ]
     },
     "metadata": {},
     "output_type": "display_data"
    }
   ],
   "source": [
    "%matplotlib inline\n",
    "fig,(ax1,ax2) = plt.subplots(2,1,figsize=(20,15),sharex=False, sharey=False)\n",
    "index1 = tf1_src.index.unique()\n",
    "index2 = tf1_medium.index.unique()\n",
    "y_pos1 = np.arange(len(index1))\n",
    "y_pos2 = np.arange(len(index2))\n",
    "bar_width=0.4\n",
    "bar_width2=0.35\n",
    "opacity=0.4\n",
    "# Total Count\n",
    "ax1.bar(y_pos1, tf1_src['source'],bar_width,align='center',color='red',alpha=opacity)\n",
    "ax1.set_xticks(y_pos1)\n",
    "ax1.set_xticklabels(tf1_src.index)\n",
    "for i,j in zip(y_pos1,tf1_src['source']):\n",
    "    ax1.annotate(str(j),xy=(i-0.15,j),color='black')\n",
    "#ax1.invert_yaxis()  # labels read top-to-bottom\n",
    "ax1.set_facecolor('oldlace')\n",
    "ax1.set_ylabel('Count')\n",
    "ax1.set_xlabel('Source')\n",
    "ax1.set_title('Traffic Source Distribution')\n",
    "# Non Zero Revenue Count\n",
    "ax2.bar(y_pos2, tf1_medium['medium'],bar_width2,align='center',color='blue',alpha=opacity)\n",
    "ax2.set_xticks(y_pos2)\n",
    "ax2.set_xticklabels(tf1_medium.index)\n",
    "for i,j in zip(y_pos1,tf1_medium['medium']):\n",
    "    ax2.annotate(str(j),xy=(i-0.06,j),color='black')\n",
    "ax2.set_xlabel('Count')\n",
    "ax2.set_ylabel('Medium')\n",
    "\n",
    "ax2.set_title('Traffic Medium Distribution')\n",
    "ax2.set_facecolor('oldlace')\n",
    "plt.tight_layout()\n",
    "plt.show()"
   ]
  },
  {
   "cell_type": "markdown",
   "metadata": {},
   "source": [
    "Direct source records the highest count which implies most customers visit the G-store directly. Medium is unknown(None) for Direct traffic. Hence, counts of Direct source and None medium matches in the above graph. 'None' will be dropped after one hot vector encoding since it provides same information as Direct."
   ]
  },
  {
   "cell_type": "markdown",
   "metadata": {},
   "source": [
    "****Summary****\n",
    "\n",
    "- *medium* and *source* columns provide information in predicting total revenue.\n",
    "    - Sources having count less than 200 are marked as 'Others' in 'source' column.\n",
    "- Since *isTrueDirect* column provides same amount of information as *source*, it is ignored.\n",
    "- *adwordsClickInfo.criteriaParameters* column has constant value('not available in demo dataset'), hence ignored.\n",
    "- *adContent*, *adwordsClickInfo.adNetworkType*, *adwordsClickInfo.gclId*, *adwordsClickInfo.isVideoAd*, *adwordsClickInfo.page*, *adwordsClickInfo.slot* columns have more than 90% of null values, hence ignored.\n",
    "- Ignored *keyword*, *referralPath*, *campaign* columns since they have more than 50% of unknown values."
   ]
  },
  {
   "cell_type": "markdown",
   "metadata": {},
   "source": [
    "*Creating Dummy Variables for 'source' and 'medium' columns*"
   ]
  },
  {
   "cell_type": "code",
   "execution_count": 49,
   "metadata": {},
   "outputs": [
    {
     "name": "stdout",
     "output_type": "stream",
     "text": [
      "<class 'pandas.core.frame.DataFrame'>\n",
      "RangeIndex: 20000 entries, 0 to 19999\n",
      "Data columns (total 6 columns):\n",
      "source_Google Analytics    20000 non-null uint8\n",
      "source_Others              20000 non-null uint8\n",
      "source_Partners            20000 non-null uint8\n",
      "source_direct              20000 non-null uint8\n",
      "source_google              20000 non-null uint8\n",
      "source_youtube             20000 non-null uint8\n",
      "dtypes: uint8(6)\n",
      "memory usage: 117.3 KB\n"
     ]
    }
   ],
   "source": [
    "Source = pd.get_dummies(trafficSource['source'],columns='source',prefix='source')\n",
    "Source.info()"
   ]
  },
  {
   "cell_type": "code",
   "execution_count": 50,
   "metadata": {},
   "outputs": [
    {
     "name": "stdout",
     "output_type": "stream",
     "text": [
      "<class 'pandas.core.frame.DataFrame'>\n",
      "RangeIndex: 20000 entries, 0 to 19999\n",
      "Data columns (total 5 columns):\n",
      "medium_affiliate    20000 non-null uint8\n",
      "medium_cpc          20000 non-null uint8\n",
      "medium_cpm          20000 non-null uint8\n",
      "medium_organic      20000 non-null uint8\n",
      "medium_referral     20000 non-null uint8\n",
      "dtypes: uint8(5)\n",
      "memory usage: 97.7 KB\n"
     ]
    }
   ],
   "source": [
    "Medium = pd.get_dummies(trafficSource['medium'],columns='medium',prefix='medium')\n",
    "Medium.drop(['medium_None'],axis=1,inplace=True)\n",
    "Medium.info()"
   ]
  },
  {
   "cell_type": "markdown",
   "metadata": {},
   "source": [
    "**4) Hits Column**"
   ]
  },
  {
   "cell_type": "code",
   "execution_count": 51,
   "metadata": {},
   "outputs": [],
   "source": [
    "import ast\n",
    "\n",
    "df1 = df['hits'].copy()\n",
    "\n",
    "df['hits']=df['hits'].apply(ast.literal_eval)\n",
    "\n",
    "df['hits']=df['hits'].str[0]\n",
    "\n",
    "df['hits']=df['hits'].apply(lambda x: {'index':np.NaN,'value':np.NaN} if pd.isnull(x) else x)\n",
    "\n",
    "hits = pd.io.json.json_normalize(df['hits'])"
   ]
  },
  {
   "cell_type": "code",
   "execution_count": 52,
   "metadata": {},
   "outputs": [
    {
     "data": {
      "text/html": [
       "<div>\n",
       "<style scoped>\n",
       "    .dataframe tbody tr th:only-of-type {\n",
       "        vertical-align: middle;\n",
       "    }\n",
       "\n",
       "    .dataframe tbody tr th {\n",
       "        vertical-align: top;\n",
       "    }\n",
       "\n",
       "    .dataframe thead th {\n",
       "        text-align: right;\n",
       "    }\n",
       "</style>\n",
       "<table border=\"1\" class=\"dataframe\">\n",
       "  <thead>\n",
       "    <tr style=\"text-align: right;\">\n",
       "      <th></th>\n",
       "      <th>appInfo.exitScreenName</th>\n",
       "      <th>appInfo.landingScreenName</th>\n",
       "      <th>appInfo.screenDepth</th>\n",
       "      <th>appInfo.screenName</th>\n",
       "      <th>contentGroup.contentGroup1</th>\n",
       "      <th>contentGroup.contentGroup2</th>\n",
       "      <th>contentGroup.contentGroup3</th>\n",
       "      <th>contentGroup.contentGroup4</th>\n",
       "      <th>contentGroup.contentGroup5</th>\n",
       "      <th>contentGroup.contentGroupUniqueViews1</th>\n",
       "      <th>...</th>\n",
       "      <th>promotionActionInfo.promoIsView</th>\n",
       "      <th>publisher_infos</th>\n",
       "      <th>referer</th>\n",
       "      <th>social.hasSocialSourceReferral</th>\n",
       "      <th>social.socialInteractionNetworkAction</th>\n",
       "      <th>social.socialNetwork</th>\n",
       "      <th>time</th>\n",
       "      <th>transaction.currencyCode</th>\n",
       "      <th>type</th>\n",
       "      <th>value</th>\n",
       "    </tr>\n",
       "  </thead>\n",
       "  <tbody>\n",
       "    <tr>\n",
       "      <th>0</th>\n",
       "      <td>shop.googlemerchandisestore.com/google+redesig...</td>\n",
       "      <td>shop.googlemerchandisestore.com/google+redesig...</td>\n",
       "      <td>0</td>\n",
       "      <td>shop.googlemerchandisestore.com/google+redesig...</td>\n",
       "      <td>(not set)</td>\n",
       "      <td>Bags</td>\n",
       "      <td>(not set)</td>\n",
       "      <td>(not set)</td>\n",
       "      <td>(not set)</td>\n",
       "      <td>NaN</td>\n",
       "      <td>...</td>\n",
       "      <td>NaN</td>\n",
       "      <td>[]</td>\n",
       "      <td>https://www.google.co.uk/search?q=water+bottle...</td>\n",
       "      <td>No</td>\n",
       "      <td>:</td>\n",
       "      <td>(not set)</td>\n",
       "      <td>0</td>\n",
       "      <td>USD</td>\n",
       "      <td>PAGE</td>\n",
       "      <td>NaN</td>\n",
       "    </tr>\n",
       "    <tr>\n",
       "      <th>1</th>\n",
       "      <td>shop.googlemerchandisestore.com/asearch.html</td>\n",
       "      <td>shop.googlemerchandisestore.com/home</td>\n",
       "      <td>0</td>\n",
       "      <td>shop.googlemerchandisestore.com/home</td>\n",
       "      <td>(not set)</td>\n",
       "      <td>(not set)</td>\n",
       "      <td>(not set)</td>\n",
       "      <td>(not set)</td>\n",
       "      <td>(not set)</td>\n",
       "      <td>NaN</td>\n",
       "      <td>...</td>\n",
       "      <td>True</td>\n",
       "      <td>[]</td>\n",
       "      <td>https://sites.google.com/a/google.com/transpor...</td>\n",
       "      <td>No</td>\n",
       "      <td>:</td>\n",
       "      <td>(not set)</td>\n",
       "      <td>0</td>\n",
       "      <td>NaN</td>\n",
       "      <td>PAGE</td>\n",
       "      <td>NaN</td>\n",
       "    </tr>\n",
       "    <tr>\n",
       "      <th>2</th>\n",
       "      <td>shop.googlemerchandisestore.com/google+redesig...</td>\n",
       "      <td>shop.googlemerchandisestore.com/home</td>\n",
       "      <td>0</td>\n",
       "      <td>shop.googlemerchandisestore.com/home</td>\n",
       "      <td>(not set)</td>\n",
       "      <td>(not set)</td>\n",
       "      <td>(not set)</td>\n",
       "      <td>(not set)</td>\n",
       "      <td>(not set)</td>\n",
       "      <td>NaN</td>\n",
       "      <td>...</td>\n",
       "      <td>True</td>\n",
       "      <td>[]</td>\n",
       "      <td>https://www.googlemerchandisestore.com/</td>\n",
       "      <td>No</td>\n",
       "      <td>:</td>\n",
       "      <td>(not set)</td>\n",
       "      <td>0</td>\n",
       "      <td>NaN</td>\n",
       "      <td>PAGE</td>\n",
       "      <td>NaN</td>\n",
       "    </tr>\n",
       "    <tr>\n",
       "      <th>3</th>\n",
       "      <td>shop.googlemerchandisestore.com/google+redesig...</td>\n",
       "      <td>shop.googlemerchandisestore.com/home</td>\n",
       "      <td>0</td>\n",
       "      <td>shop.googlemerchandisestore.com/home</td>\n",
       "      <td>(not set)</td>\n",
       "      <td>(not set)</td>\n",
       "      <td>(not set)</td>\n",
       "      <td>(not set)</td>\n",
       "      <td>(not set)</td>\n",
       "      <td>NaN</td>\n",
       "      <td>...</td>\n",
       "      <td>True</td>\n",
       "      <td>[]</td>\n",
       "      <td>https://www.google.com.tr/</td>\n",
       "      <td>No</td>\n",
       "      <td>:</td>\n",
       "      <td>(not set)</td>\n",
       "      <td>0</td>\n",
       "      <td>NaN</td>\n",
       "      <td>PAGE</td>\n",
       "      <td>NaN</td>\n",
       "    </tr>\n",
       "    <tr>\n",
       "      <th>4</th>\n",
       "      <td>shop.googlemerchandisestore.com/google+redesig...</td>\n",
       "      <td>shop.googlemerchandisestore.com/home</td>\n",
       "      <td>0</td>\n",
       "      <td>shop.googlemerchandisestore.com/home</td>\n",
       "      <td>(not set)</td>\n",
       "      <td>(not set)</td>\n",
       "      <td>(not set)</td>\n",
       "      <td>(not set)</td>\n",
       "      <td>(not set)</td>\n",
       "      <td>NaN</td>\n",
       "      <td>...</td>\n",
       "      <td>True</td>\n",
       "      <td>[]</td>\n",
       "      <td>https://www.google.com.mx/</td>\n",
       "      <td>No</td>\n",
       "      <td>:</td>\n",
       "      <td>(not set)</td>\n",
       "      <td>0</td>\n",
       "      <td>NaN</td>\n",
       "      <td>PAGE</td>\n",
       "      <td>NaN</td>\n",
       "    </tr>\n",
       "  </tbody>\n",
       "</table>\n",
       "<p>5 rows × 58 columns</p>\n",
       "</div>"
      ],
      "text/plain": [
       "                              appInfo.exitScreenName  \\\n",
       "0  shop.googlemerchandisestore.com/google+redesig...   \n",
       "1       shop.googlemerchandisestore.com/asearch.html   \n",
       "2  shop.googlemerchandisestore.com/google+redesig...   \n",
       "3  shop.googlemerchandisestore.com/google+redesig...   \n",
       "4  shop.googlemerchandisestore.com/google+redesig...   \n",
       "\n",
       "                           appInfo.landingScreenName appInfo.screenDepth  \\\n",
       "0  shop.googlemerchandisestore.com/google+redesig...                   0   \n",
       "1               shop.googlemerchandisestore.com/home                   0   \n",
       "2               shop.googlemerchandisestore.com/home                   0   \n",
       "3               shop.googlemerchandisestore.com/home                   0   \n",
       "4               shop.googlemerchandisestore.com/home                   0   \n",
       "\n",
       "                                  appInfo.screenName  \\\n",
       "0  shop.googlemerchandisestore.com/google+redesig...   \n",
       "1               shop.googlemerchandisestore.com/home   \n",
       "2               shop.googlemerchandisestore.com/home   \n",
       "3               shop.googlemerchandisestore.com/home   \n",
       "4               shop.googlemerchandisestore.com/home   \n",
       "\n",
       "  contentGroup.contentGroup1 contentGroup.contentGroup2  \\\n",
       "0                  (not set)                       Bags   \n",
       "1                  (not set)                  (not set)   \n",
       "2                  (not set)                  (not set)   \n",
       "3                  (not set)                  (not set)   \n",
       "4                  (not set)                  (not set)   \n",
       "\n",
       "  contentGroup.contentGroup3 contentGroup.contentGroup4  \\\n",
       "0                  (not set)                  (not set)   \n",
       "1                  (not set)                  (not set)   \n",
       "2                  (not set)                  (not set)   \n",
       "3                  (not set)                  (not set)   \n",
       "4                  (not set)                  (not set)   \n",
       "\n",
       "  contentGroup.contentGroup5 contentGroup.contentGroupUniqueViews1  ...   \\\n",
       "0                  (not set)                                   NaN  ...    \n",
       "1                  (not set)                                   NaN  ...    \n",
       "2                  (not set)                                   NaN  ...    \n",
       "3                  (not set)                                   NaN  ...    \n",
       "4                  (not set)                                   NaN  ...    \n",
       "\n",
       "  promotionActionInfo.promoIsView publisher_infos  \\\n",
       "0                             NaN              []   \n",
       "1                            True              []   \n",
       "2                            True              []   \n",
       "3                            True              []   \n",
       "4                            True              []   \n",
       "\n",
       "                                             referer  \\\n",
       "0  https://www.google.co.uk/search?q=water+bottle...   \n",
       "1  https://sites.google.com/a/google.com/transpor...   \n",
       "2            https://www.googlemerchandisestore.com/   \n",
       "3                         https://www.google.com.tr/   \n",
       "4                         https://www.google.com.mx/   \n",
       "\n",
       "  social.hasSocialSourceReferral social.socialInteractionNetworkAction  \\\n",
       "0                             No                                    :    \n",
       "1                             No                                    :    \n",
       "2                             No                                    :    \n",
       "3                             No                                    :    \n",
       "4                             No                                    :    \n",
       "\n",
       "  social.socialNetwork time transaction.currencyCode  type value  \n",
       "0            (not set)    0                      USD  PAGE   NaN  \n",
       "1            (not set)    0                      NaN  PAGE   NaN  \n",
       "2            (not set)    0                      NaN  PAGE   NaN  \n",
       "3            (not set)    0                      NaN  PAGE   NaN  \n",
       "4            (not set)    0                      NaN  PAGE   NaN  \n",
       "\n",
       "[5 rows x 58 columns]"
      ]
     },
     "execution_count": 52,
     "metadata": {},
     "output_type": "execute_result"
    }
   ],
   "source": [
    "hits.head()"
   ]
  },
  {
   "cell_type": "code",
   "execution_count": 53,
   "metadata": {
    "scrolled": true
   },
   "outputs": [
    {
     "name": "stdout",
     "output_type": "stream",
     "text": [
      "<class 'pandas.core.frame.DataFrame'>\n",
      "RangeIndex: 20000 entries, 0 to 19999\n",
      "Data columns (total 58 columns):\n",
      "appInfo.exitScreenName                   19994 non-null object\n",
      "appInfo.landingScreenName                19994 non-null object\n",
      "appInfo.screenDepth                      19994 non-null object\n",
      "appInfo.screenName                       19994 non-null object\n",
      "contentGroup.contentGroup1               19994 non-null object\n",
      "contentGroup.contentGroup2               19994 non-null object\n",
      "contentGroup.contentGroup3               19994 non-null object\n",
      "contentGroup.contentGroup4               19994 non-null object\n",
      "contentGroup.contentGroup5               19994 non-null object\n",
      "contentGroup.contentGroupUniqueViews1    80 non-null object\n",
      "contentGroup.contentGroupUniqueViews2    7069 non-null object\n",
      "contentGroup.contentGroupUniqueViews3    561 non-null object\n",
      "contentGroup.previousContentGroup1       19994 non-null object\n",
      "contentGroup.previousContentGroup2       19994 non-null object\n",
      "contentGroup.previousContentGroup3       19994 non-null object\n",
      "contentGroup.previousContentGroup4       19994 non-null object\n",
      "contentGroup.previousContentGroup5       19994 non-null object\n",
      "customDimensions                         19994 non-null object\n",
      "customMetrics                            19994 non-null object\n",
      "customVariables                          19994 non-null object\n",
      "dataSource                               11214 non-null object\n",
      "eCommerceAction.action_type              19994 non-null object\n",
      "eCommerceAction.step                     19994 non-null object\n",
      "eventInfo.eventAction                    44 non-null object\n",
      "eventInfo.eventCategory                  44 non-null object\n",
      "eventInfo.eventLabel                     26 non-null object\n",
      "exceptionInfo.isFatal                    19994 non-null object\n",
      "experiment                               19994 non-null object\n",
      "hitNumber                                19994 non-null object\n",
      "hour                                     19994 non-null object\n",
      "index                                    0 non-null float64\n",
      "isEntrance                               19950 non-null object\n",
      "isExit                                   9913 non-null object\n",
      "isInteraction                            19994 non-null object\n",
      "item.currencyCode                        6971 non-null object\n",
      "minute                                   19994 non-null object\n",
      "page.hostname                            19994 non-null object\n",
      "page.pagePath                            19994 non-null object\n",
      "page.pagePathLevel1                      19994 non-null object\n",
      "page.pagePathLevel2                      19994 non-null object\n",
      "page.pagePathLevel3                      19994 non-null object\n",
      "page.pagePathLevel4                      19994 non-null object\n",
      "page.pageTitle                           19994 non-null object\n",
      "page.searchCategory                      14 non-null object\n",
      "page.searchKeyword                       14 non-null object\n",
      "product                                  19994 non-null object\n",
      "promotion                                19994 non-null object\n",
      "promotionActionInfo.promoIsClick         5 non-null object\n",
      "promotionActionInfo.promoIsView          5670 non-null object\n",
      "publisher_infos                          19994 non-null object\n",
      "referer                                  15108 non-null object\n",
      "social.hasSocialSourceReferral           19994 non-null object\n",
      "social.socialInteractionNetworkAction    19994 non-null object\n",
      "social.socialNetwork                     19994 non-null object\n",
      "time                                     19994 non-null object\n",
      "transaction.currencyCode                 6971 non-null object\n",
      "type                                     19994 non-null object\n",
      "value                                    0 non-null float64\n",
      "dtypes: float64(2), object(56)\n",
      "memory usage: 8.9+ MB\n"
     ]
    }
   ],
   "source": [
    "hits.info()"
   ]
  },
  {
   "cell_type": "code",
   "execution_count": 54,
   "metadata": {},
   "outputs": [
    {
     "name": "stdout",
     "output_type": "stream",
     "text": [
      "['customDimensions column values : []'\n",
      " 'customDimensions column values : nan']\n",
      "['customMetrics column values : []' 'customMetrics column values : nan']\n",
      "['customVariables column values : []'\n",
      " 'customVariables column values : nan']\n",
      "['experiment column values : []' 'experiment column values : nan']\n",
      "['publisher_infos column values : []'\n",
      " 'publisher_infos column values : nan']\n"
     ]
    }
   ],
   "source": [
    "for i in ['customDimensions', 'customMetrics','customVariables', 'experiment','publisher_infos']:\n",
    "    print(i + \" column values : \" + hits[i].astype(str).unique())"
   ]
  },
  {
   "cell_type": "code",
   "execution_count": 55,
   "metadata": {},
   "outputs": [
    {
     "name": "stdout",
     "output_type": "stream",
     "text": [
      "0    19994\n",
      "Name: appInfo.screenDepth, dtype: int64\n",
      "(not set)    19914\n",
      "Name: contentGroup.contentGroup1, dtype: int64\n",
      "(not set)    19429\n",
      "Name: contentGroup.contentGroup3, dtype: int64\n",
      "(not set)    19994\n",
      "Name: contentGroup.contentGroup4, dtype: int64\n",
      "(not set)    19994\n",
      "Name: contentGroup.contentGroup5, dtype: int64\n",
      "1    19994\n",
      "Name: eCommerceAction.step, dtype: int64\n",
      " :     19994\n",
      "Name: social.socialInteractionNetworkAction, dtype: int64\n"
     ]
    }
   ],
   "source": [
    "for i in ['appInfo.screenDepth','contentGroup.contentGroup1','contentGroup.contentGroup3','contentGroup.contentGroup4','contentGroup.contentGroup5', 'eCommerceAction.step', 'social.socialInteractionNetworkAction']:\n",
    "    print(hits[i].value_counts().nlargest(1))"
   ]
  },
  {
   "cell_type": "code",
   "execution_count": 56,
   "metadata": {},
   "outputs": [
    {
     "name": "stdout",
     "output_type": "stream",
     "text": [
      "1    19994\n",
      "Name: eCommerceAction.step, dtype: int64\n",
      "True    19994\n",
      "Name: exceptionInfo.isFatal, dtype: int64\n",
      "True    19950\n",
      "Name: isEntrance, dtype: int64\n",
      "True    9913\n",
      "Name: isExit, dtype: int64\n",
      "True    19994\n",
      "Name: isInteraction, dtype: int64\n",
      "USD    6971\n",
      "Name: item.currencyCode, dtype: int64\n",
      "USD    6971\n",
      "Name: transaction.currencyCode, dtype: int64\n"
     ]
    }
   ],
   "source": [
    "for i in ['eCommerceAction.step','exceptionInfo.isFatal','isEntrance','isExit','isInteraction','item.currencyCode','transaction.currencyCode']:\n",
    "    print(hits[i].value_counts().nlargest(1))"
   ]
  },
  {
   "cell_type": "code",
   "execution_count": 57,
   "metadata": {},
   "outputs": [
    {
     "name": "stdout",
     "output_type": "stream",
     "text": [
      "(entrance)    19994\n",
      "Name: contentGroup.previousContentGroup1, dtype: int64\n",
      "(entrance)    19994\n",
      "Name: contentGroup.previousContentGroup2, dtype: int64\n",
      "(entrance)    19994\n",
      "Name: contentGroup.previousContentGroup3, dtype: int64\n",
      "(entrance)    19994\n",
      "Name: contentGroup.previousContentGroup4, dtype: int64\n",
      "(entrance)    19994\n",
      "Name: contentGroup.previousContentGroup5, dtype: int64\n"
     ]
    }
   ],
   "source": [
    "for i in ['contentGroup.previousContentGroup1','contentGroup.previousContentGroup2','contentGroup.previousContentGroup3','contentGroup.previousContentGroup4','contentGroup.previousContentGroup5']:\n",
    "    print(hits[i].value_counts().nlargest(1))"
   ]
  },
  {
   "cell_type": "code",
   "execution_count": 58,
   "metadata": {},
   "outputs": [
    {
     "data": {
      "text/plain": [
       "1.0    19950\n",
       "0.0       50\n",
       "Name: type, dtype: int64"
      ]
     },
     "execution_count": 58,
     "metadata": {},
     "output_type": "execute_result"
    }
   ],
   "source": [
    "hits['type'] = hits['type'].map({'PAGE': 1, 'EVENT': 0})\n",
    "hits['type'] = hits['type'].fillna(0)\n",
    "hits['type'].value_counts()"
   ]
  },
  {
   "cell_type": "code",
   "execution_count": 59,
   "metadata": {},
   "outputs": [],
   "source": [
    "hits['Source_Web'] = hits['dataSource'] == 'web'\n",
    "\n",
    "hits['Source_Web'] = hits['Source_Web'].map({True: 1, False: 0})"
   ]
  },
  {
   "cell_type": "code",
   "execution_count": 60,
   "metadata": {
    "scrolled": true
   },
   "outputs": [
    {
     "data": {
      "text/plain": [
       "1    11202\n",
       "0     8798\n",
       "Name: Source_Web, dtype: int64"
      ]
     },
     "execution_count": 60,
     "metadata": {},
     "output_type": "execute_result"
    }
   ],
   "source": [
    "hits['Source_Web'].value_counts() #web or not"
   ]
  },
  {
   "cell_type": "code",
   "execution_count": 61,
   "metadata": {},
   "outputs": [],
   "source": [
    "hits['page.pagePathLevel1'] = hits['page.pagePathLevel1'].replace(['/home','/google+redesign/','/signin.html'], ['Home','Google_Redesign','SignIn'])"
   ]
  },
  {
   "cell_type": "code",
   "execution_count": 62,
   "metadata": {},
   "outputs": [],
   "source": [
    "m = hits['page.pagePathLevel1'].value_counts()\n",
    "n = hits['page.pagePathLevel1'].isin(m.index[m<200])\n",
    "hits.loc[n, 'page.pagePathLevel1'] = 'Others'\n",
    "\n",
    "hits['page.pagePathLevel1'] = hits['page.pagePathLevel1'].fillna('Others')"
   ]
  },
  {
   "cell_type": "code",
   "execution_count": 63,
   "metadata": {},
   "outputs": [
    {
     "data": {
      "text/plain": [
       "Home               11806\n",
       "Google_Redesign     7152\n",
       "Others               656\n",
       "SignIn               386\n",
       "Name: page.pagePathLevel1, dtype: int64"
      ]
     },
     "execution_count": 63,
     "metadata": {},
     "output_type": "execute_result"
    }
   ],
   "source": [
    "hits['page.pagePathLevel1'].value_counts()"
   ]
  },
  {
   "cell_type": "code",
   "execution_count": 64,
   "metadata": {},
   "outputs": [],
   "source": [
    "hits['page.pagePathLevel2'] = hits['page.pagePathLevel2'].replace(['','/shop+by+brand/','/apparel/','/apparel','/bags','/drinkware','/electronics/'], ['None','Shop_Brand','Apparel','Apparel','Bags','Drinkware','Electronics'])"
   ]
  },
  {
   "cell_type": "code",
   "execution_count": 65,
   "metadata": {},
   "outputs": [
    {
     "data": {
      "text/plain": [
       "False    19994\n",
       "True         6\n",
       "Name: page.pagePathLevel2, dtype: int64"
      ]
     },
     "execution_count": 65,
     "metadata": {},
     "output_type": "execute_result"
    }
   ],
   "source": [
    "hits['page.pagePathLevel2'].isna().value_counts()"
   ]
  },
  {
   "cell_type": "code",
   "execution_count": 66,
   "metadata": {},
   "outputs": [],
   "source": [
    "o = hits['page.pagePathLevel2'].value_counts()\n",
    "p = hits['page.pagePathLevel2'].isin(o.index[o<200])\n",
    "hits.loc[p, 'page.pagePathLevel2'] = 'Others'\n",
    "\n",
    "hits['page.pagePathLevel2'] = hits['page.pagePathLevel2'].fillna('Others')"
   ]
  },
  {
   "cell_type": "code",
   "execution_count": 67,
   "metadata": {},
   "outputs": [
    {
     "data": {
      "text/plain": [
       "None           12704\n",
       "Shop_Brand      3537\n",
       "Apparel         1887\n",
       "Others          1199\n",
       "Bags             239\n",
       "Drinkware        220\n",
       "Electronics      214\n",
       "Name: page.pagePathLevel2, dtype: int64"
      ]
     },
     "execution_count": 67,
     "metadata": {},
     "output_type": "execute_result"
    }
   ],
   "source": [
    "hits['page.pagePathLevel2'].value_counts()"
   ]
  },
  {
   "cell_type": "code",
   "execution_count": 68,
   "metadata": {},
   "outputs": [],
   "source": [
    "hits['page.pagePathLevel3'] = hits['page.pagePathLevel3'].replace(['','/youtube','/mens','/men++s/','/mens/','/stickers/'], ['None','Youtube','Mens','Mens','Mens','Stickers'])"
   ]
  },
  {
   "cell_type": "code",
   "execution_count": 69,
   "metadata": {},
   "outputs": [
    {
     "data": {
      "text/plain": [
       "False    19994\n",
       "True         6\n",
       "Name: page.pagePathLevel3, dtype: int64"
      ]
     },
     "execution_count": 69,
     "metadata": {},
     "output_type": "execute_result"
    }
   ],
   "source": [
    "hits['page.pagePathLevel3'].isna().value_counts()"
   ]
  },
  {
   "cell_type": "code",
   "execution_count": 70,
   "metadata": {},
   "outputs": [],
   "source": [
    "q = hits['page.pagePathLevel3'].value_counts()\n",
    "r = hits['page.pagePathLevel3'].isin(q.index[q<200])\n",
    "hits.loc[r, 'page.pagePathLevel3'] = 'Others'\n",
    "\n",
    "hits['page.pagePathLevel3'] = hits['page.pagePathLevel3'].fillna('Others')"
   ]
  },
  {
   "cell_type": "code",
   "execution_count": 71,
   "metadata": {},
   "outputs": [
    {
     "data": {
      "text/plain": [
       "0.0    16539\n",
       "1.0     3455\n",
       "Name: social.hasSocialSourceReferral, dtype: int64"
      ]
     },
     "execution_count": 71,
     "metadata": {},
     "output_type": "execute_result"
    }
   ],
   "source": [
    "hits['social.hasSocialSourceReferral'] = hits['social.hasSocialSourceReferral'].map({'Yes': 1, 'No': 0})\n",
    "hits['social.hasSocialSourceReferral'].value_counts()"
   ]
  },
  {
   "cell_type": "code",
   "execution_count": 72,
   "metadata": {},
   "outputs": [],
   "source": [
    "for i in ['contentGroup.contentGroupUniqueViews1','contentGroup.contentGroupUniqueViews2','contentGroup.contentGroupUniqueViews3','promotionActionInfo.promoIsView','social.hasSocialSourceReferral']:\n",
    "    hits[i] = hits[i].fillna(0)\n",
    "    hits[i] = hits[i].astype(int)"
   ]
  },
  {
   "cell_type": "code",
   "execution_count": 73,
   "metadata": {},
   "outputs": [
    {
     "data": {
      "text/plain": [
       "0    14330\n",
       "1     5670\n",
       "Name: promotionActionInfo.promoIsView, dtype: int64"
      ]
     },
     "execution_count": 73,
     "metadata": {},
     "output_type": "execute_result"
    }
   ],
   "source": [
    "hits['promotionActionInfo.promoIsView'] = hits['promotionActionInfo.promoIsView'].replace(True,1)\n",
    "hits['promotionActionInfo.promoIsView'].value_counts()"
   ]
  },
  {
   "cell_type": "code",
   "execution_count": 74,
   "metadata": {},
   "outputs": [
    {
     "data": {
      "text/plain": [
       "(not set)    16539\n",
       "Name: social.socialNetwork, dtype: int64"
      ]
     },
     "execution_count": 74,
     "metadata": {},
     "output_type": "execute_result"
    }
   ],
   "source": [
    "hits['social.socialNetwork'].value_counts().nlargest(1)"
   ]
  },
  {
   "cell_type": "code",
   "execution_count": 75,
   "metadata": {},
   "outputs": [],
   "source": [
    "hits_final = hits[['contentGroup.contentGroupUniqueViews1','contentGroup.contentGroupUniqueViews2','contentGroup.contentGroupUniqueViews3','Source_Web','promotionActionInfo.promoIsView','social.hasSocialSourceReferral','type']]"
   ]
  },
  {
   "cell_type": "code",
   "execution_count": 76,
   "metadata": {},
   "outputs": [
    {
     "name": "stdout",
     "output_type": "stream",
     "text": [
      "<class 'pandas.core.frame.DataFrame'>\n",
      "RangeIndex: 20000 entries, 0 to 19999\n",
      "Data columns (total 7 columns):\n",
      "contentGroup.contentGroupUniqueViews1    20000 non-null int32\n",
      "contentGroup.contentGroupUniqueViews2    20000 non-null int32\n",
      "contentGroup.contentGroupUniqueViews3    20000 non-null int32\n",
      "Source_Web                               20000 non-null int64\n",
      "promotionActionInfo.promoIsView          20000 non-null int64\n",
      "social.hasSocialSourceReferral           20000 non-null int32\n",
      "type                                     20000 non-null float64\n",
      "dtypes: float64(1), int32(4), int64(2)\n",
      "memory usage: 781.3 KB\n"
     ]
    }
   ],
   "source": [
    "hits_final.info()"
   ]
  },
  {
   "cell_type": "code",
   "execution_count": 77,
   "metadata": {},
   "outputs": [
    {
     "data": {
      "image/png": "[encoded data removed]",
      "text/plain": [
       "<Figure size 720x432 with 1 Axes>"
      ]
     },
     "metadata": {},
     "output_type": "display_data"
    }
   ],
   "source": [
    "%matplotlib inline\n",
    "fig,ax = plt.subplots(1,1,figsize=(10,6))\n",
    "a =(hits_final['contentGroup.contentGroupUniqueViews1']==1).sum()\n",
    "b =(hits_final['contentGroup.contentGroupUniqueViews2']==1).sum()\n",
    "c =(hits_final['contentGroup.contentGroupUniqueViews3']==1).sum()\n",
    "lst=[]\n",
    "lst.extend((a,b,c))\n",
    "bar_width=0.35\n",
    "opacity=0.4\n",
    "objects = ('contentGroupUniqueViews1', 'contentGroupUniqueViews2', 'contentGroupUniqueViews3')\n",
    "y_pos = np.arange(len(objects))\n",
    "# Total Count\n",
    "ax.bar(y_pos, lst,bar_width,align='center',color='black',alpha=opacity)\n",
    "ax.set_xticks(y_pos)\n",
    "ax.set_xticklabels(objects)\n",
    "for i,j in zip(y_pos,lst):\n",
    "    ax.annotate(str(j),xy=(i-0.03,j),color='black')\n",
    "#ax1.invert_yaxis()  # labels read top-to-bottom\n",
    "ax.set_facecolor('beige')\n",
    "ax.set_ylabel('Count')\n",
    "ax.set_xlabel('Source')\n",
    "ax.set_title('Traffic Source Distribution')\n",
    "plt.tight_layout()\n",
    "plt.show()"
   ]
  },
  {
   "cell_type": "markdown",
   "metadata": {},
   "source": [
    "Unique views can be understood as user sessions per page, with each session potentially representing multiple views of the page but a minimum of one view per session. Hence, most of the customers in the dataset have visited a page twice and small portion of customers have visited a page thrice."
   ]
  },
  {
   "cell_type": "code",
   "execution_count": 78,
   "metadata": {},
   "outputs": [
    {
     "data": {
      "image/png": "[encoded data removed]",
      "text/plain": [
       "<Figure size 576x432 with 1 Axes>"
      ]
     },
     "metadata": {},
     "output_type": "display_data"
    }
   ],
   "source": [
    "df_summ = hits_final['social.hasSocialSourceReferral'].value_counts().sort_values(ascending=False)\n",
    "fig = plt.figure(figsize=(8,6))\n",
    "ax = fig.add_subplot(111,facecolor='beige')\n",
    "code=['Yes','No']\n",
    "index = df_summ.index.unique()\n",
    "y_pos = np.arange(len(index))\n",
    "bar_width=0.25\n",
    "opacity=0.4\n",
    "plt.bar(y_pos,df_summ.values,bar_width,alpha=opacity,color='black',label='Count')\n",
    "for i,j in zip(y_pos,df_summ.values):\n",
    "    ax.annotate(str(j),xy=(i-0.05,j),color='black',fontsize=12)\n",
    "plt.title(\"Web Hits Distribution\",fontsize=12)\n",
    "plt.xticks(y_pos,code,fontsize=12)\n",
    "plt.xlabel('SocialSourceReferral Yes/No?')\n",
    "plt.ylabel('Count')\n",
    "plt.tight_layout()\n",
    "plt.legend()\n",
    "plt.show()"
   ]
  },
  {
   "cell_type": "code",
   "execution_count": 79,
   "metadata": {},
   "outputs": [],
   "source": [
    "import simplejson as json\n",
    "\n",
    "hits_columns = pd.io.json.json_normalize(df1.apply(complex_replace))\n",
    "ProductCategory = hits_columns['v2ProductCategory'].apply(pd.Series)\n"
   ]
  },
  {
   "cell_type": "code",
   "execution_count": 80,
   "metadata": {},
   "outputs": [],
   "source": [
    "ProductCategory[0] = ProductCategory[0].replace(['Home/Shop by Brand/YouTube/','Home/Shop by Brand/Android/','Home/Shop by Brand/Google/','(not set)'],['Shop_By_Brand','Shop_By_Brand','Shop_By_Brand','Others'])"
   ]
  },
  {
   "cell_type": "code",
   "execution_count": 81,
   "metadata": {},
   "outputs": [],
   "source": [
    "ProductCategory[0] = ProductCategory[0].replace(['Wearables/Men_s T-Shirts/','Home/Apparel/Men_s/Men_s-Performance Wear/','Home/Apparel/Men_s/Men_s-T-Shirts/','Home/Apparel/Headgear/','Home/Apparel/Men_s/','Home/Apparel/','Home/Apparel/Men_s/Men_s-Outerwear/'],'Mens Apparel')"
   ]
  },
  {
   "cell_type": "code",
   "execution_count": 82,
   "metadata": {},
   "outputs": [],
   "source": [
    "ProductCategory[0] = ProductCategory[0].replace(['Home/Apparel/Kid_s/','Home/Apparel/Kid_s/Kid_s-Infant/','Apparel','Home/Apparel/Women_s/Women_s-T-Shirts/','Home/Apparel/Women_s/','Home/Apparel/Women_s/Women_s-Outerwear/','Home/Apparel/Women_s/Women_s-Performance Wear/'],'Womens/Kids Apparel')"
   ]
  },
  {
   "cell_type": "code",
   "execution_count": 83,
   "metadata": {},
   "outputs": [],
   "source": [
    "ProductCategory[0] = ProductCategory[0].replace(['Home/Drinkware/','Home/Drinkware/Mugs and Cups/','Home/Drinkware/Water Bottles and Tumblers/'],'Drinkware')"
   ]
  },
  {
   "cell_type": "code",
   "execution_count": 84,
   "metadata": {},
   "outputs": [],
   "source": [
    "u = ProductCategory[0].value_counts()\n",
    "v = ProductCategory[0].isin(u.index[u<570])\n",
    "ProductCategory.loc[v, 0] = 'Accesories/Electronics'\n",
    "\n",
    "ProductCategory[0] = ProductCategory[0].fillna('Others')"
   ]
  },
  {
   "cell_type": "markdown",
   "metadata": {},
   "source": [
    "****Summary****\n",
    "\n",
    "- *page.pagePathLevel1*, *page.pagePathLevel2*, *page.pagePathLevel3*, *dataSource*, *contentGroup.contentGroupUniqueViews1*, *contentGroup.contentGroupUniqueViews2*, *contentGroup.contentGroupUniqueViews3*, *promotionActionInfo.promoIsView*, *social.hasSocialSourceReferral*, *type* columns provide information in predicting total revenue.\n",
    "- Since *hitNumber* column provides same amount of information as *totals_hits* column in main dataframe(df), it is ignored.\n",
    "- eventInfo.eventAction, eventInfo.eventCategory, eventInfo.eventLabel, index, page.searchCategory, page.searchKeyword, promotionActionInfo.promoIsClick, value columns have more than 90% of null values, hence ignored.\n",
    "- 'customDimensions', 'customMetrics','customVariables', 'experiment','publisher_infos' columns have values ([],'nan'), hence ignored.\n",
    "- 'appInfo.screenDepth', 'contentGroup.contentGroup1', 'contentGroup.contentGroup2', 'contentGroup.contentGroup3', 'contentGroup.contentGroup4', 'contentGroup.contentGroup5', 'social.socialInteractionNetworkAction', 'eCommerceAction.step', 'exceptionInfo.isFatal', 'isEntrance', 'isExit', 'isInteraction', 'item.currencyCode', 'transaction.currencyCode', 'contentGroup.previousContentGroup1', 'contentGroup.previousContentGroup2', 'contentGroup.previousContentGroup3', 'contentGroup.previousContentGroup4', 'contentGroup.previousContentGroup5', 'page.hostname' columns have constant values, hence ignored.\n",
    "- 'hour', 'minute', 'time' 'promotion', 'eCommerceAction.action_type' columns can be ignored as they don't provide any information to predict the outcome.\n",
    "- 'social.socialNetwork' is ignored as it has more than 70% of unknown values.\n",
    "- 'appInfo.exitScreenName', 'appInfo.landingScreenName', 'appInfo.screenName', 'page.pagePath', 'page.pageTitle' columns provide same information as 'pagePathLevels' and 'productCategory', hence ignored.\n"
   ]
  },
  {
   "cell_type": "markdown",
   "metadata": {},
   "source": [
    "*Creating Dummy Variables for 'page.pagePathLevel1', 'page.pagePathLevel2', 'page.pagePathLevel3', 'ProductCategory' columns*"
   ]
  },
  {
   "cell_type": "code",
   "execution_count": 85,
   "metadata": {},
   "outputs": [
    {
     "name": "stdout",
     "output_type": "stream",
     "text": [
      "<class 'pandas.core.frame.DataFrame'>\n",
      "RangeIndex: 20000 entries, 0 to 19999\n",
      "Data columns (total 4 columns):\n",
      "pagePathLevel1_Google_Redesign    20000 non-null uint8\n",
      "pagePathLevel1_Home               20000 non-null uint8\n",
      "pagePathLevel1_Others             20000 non-null uint8\n",
      "pagePathLevel1_SignIn             20000 non-null uint8\n",
      "dtypes: uint8(4)\n",
      "memory usage: 78.2 KB\n"
     ]
    }
   ],
   "source": [
    "pagePathLevel1 = pd.get_dummies(hits['page.pagePathLevel1'],columns='page.pagePathLevel1',prefix='pagePathLevel1')\n",
    "pagePathLevel1.info()"
   ]
  },
  {
   "cell_type": "code",
   "execution_count": 86,
   "metadata": {},
   "outputs": [
    {
     "name": "stdout",
     "output_type": "stream",
     "text": [
      "<class 'pandas.core.frame.DataFrame'>\n",
      "RangeIndex: 20000 entries, 0 to 19999\n",
      "Data columns (total 7 columns):\n",
      "pagePathLevel2_Apparel        20000 non-null uint8\n",
      "pagePathLevel2_Bags           20000 non-null uint8\n",
      "pagePathLevel2_Drinkware      20000 non-null uint8\n",
      "pagePathLevel2_Electronics    20000 non-null uint8\n",
      "pagePathLevel2_None           20000 non-null uint8\n",
      "pagePathLevel2_Others         20000 non-null uint8\n",
      "pagePathLevel2_Shop_Brand     20000 non-null uint8\n",
      "dtypes: uint8(7)\n",
      "memory usage: 136.8 KB\n"
     ]
    }
   ],
   "source": [
    "pagePathLevel2 = pd.get_dummies(hits['page.pagePathLevel2'],columns='page.pagePathLevel2',prefix='pagePathLevel2')\n",
    "pagePathLevel2.info()"
   ]
  },
  {
   "cell_type": "code",
   "execution_count": 87,
   "metadata": {},
   "outputs": [
    {
     "name": "stdout",
     "output_type": "stream",
     "text": [
      "<class 'pandas.core.frame.DataFrame'>\n",
      "RangeIndex: 20000 entries, 0 to 19999\n",
      "Data columns (total 4 columns):\n",
      "pagePathLevel3_Mens       20000 non-null uint8\n",
      "pagePathLevel3_None       20000 non-null uint8\n",
      "pagePathLevel3_Others     20000 non-null uint8\n",
      "pagePathLevel3_Youtube    20000 non-null uint8\n",
      "dtypes: uint8(4)\n",
      "memory usage: 78.2 KB\n"
     ]
    }
   ],
   "source": [
    "pagePathLevel3 = pd.get_dummies(hits['page.pagePathLevel3'],columns='page.pagePathLevel3',prefix='pagePathLevel3')\n",
    "pagePathLevel3.info()"
   ]
  },
  {
   "cell_type": "code",
   "execution_count": 88,
   "metadata": {
    "scrolled": true
   },
   "outputs": [
    {
     "name": "stdout",
     "output_type": "stream",
     "text": [
      "<class 'pandas.core.frame.DataFrame'>\n",
      "RangeIndex: 20000 entries, 0 to 19999\n",
      "Data columns (total 6 columns):\n",
      "ProductCategory_Accesories/Electronics    20000 non-null uint8\n",
      "ProductCategory_Drinkware                 20000 non-null uint8\n",
      "ProductCategory_Mens Apparel              20000 non-null uint8\n",
      "ProductCategory_Others                    20000 non-null uint8\n",
      "ProductCategory_Shop_By_Brand             20000 non-null uint8\n",
      "ProductCategory_Womens/Kids Apparel       20000 non-null uint8\n",
      "dtypes: uint8(6)\n",
      "memory usage: 117.3 KB\n"
     ]
    }
   ],
   "source": [
    "ProductCat = pd.get_dummies(ProductCategory[0],columns=0,prefix='ProductCategory')\n",
    "ProductCat.info()"
   ]
  },
  {
   "cell_type": "markdown",
   "metadata": {},
   "source": [
    "**5) Custom Dimensions Column**"
   ]
  },
  {
   "cell_type": "code",
   "execution_count": 89,
   "metadata": {},
   "outputs": [],
   "source": [
    "df['customDimensions'] = df['customDimensions'].str.replace('\\'','\"')"
   ]
  },
  {
   "cell_type": "code",
   "execution_count": 90,
   "metadata": {},
   "outputs": [],
   "source": [
    "z = df['customDimensions'].to_json(orient='records')\n",
    "z2 = z.replace('\\\\','').replace('\"[]\"','{}').replace('\"[','').replace(']\"','')"
   ]
  },
  {
   "cell_type": "code",
   "execution_count": 91,
   "metadata": {},
   "outputs": [],
   "source": [
    "customDimensions = pd.read_json(z2, orient='records')"
   ]
  },
  {
   "cell_type": "code",
   "execution_count": 92,
   "metadata": {},
   "outputs": [
    {
     "data": {
      "text/plain": [
       "North America      9288\n",
       "EMEA               3775\n",
       "APAC               2566\n",
       "South America       468\n",
       "Central America     298\n",
       "Name: value, dtype: int64"
      ]
     },
     "execution_count": 92,
     "metadata": {},
     "output_type": "execute_result"
    }
   ],
   "source": [
    "customDimensions['value'].value_counts()"
   ]
  },
  {
   "cell_type": "code",
   "execution_count": 93,
   "metadata": {},
   "outputs": [
    {
     "name": "stdout",
     "output_type": "stream",
     "text": [
      "<class 'pandas.core.frame.DataFrame'>\n",
      "RangeIndex: 20000 entries, 0 to 19999\n",
      "Data columns (total 5 columns):\n",
      "customDimensions_APAC               20000 non-null uint8\n",
      "customDimensions_Central America    20000 non-null uint8\n",
      "customDimensions_EMEA               20000 non-null uint8\n",
      "customDimensions_North America      20000 non-null uint8\n",
      "customDimensions_South America      20000 non-null uint8\n",
      "dtypes: uint8(5)\n",
      "memory usage: 97.7 KB\n"
     ]
    }
   ],
   "source": [
    "CustomDim = pd.get_dummies(customDimensions['value'],columns='value',prefix='customDimensions')\n",
    "CustomDim.info()"
   ]
  },
  {
   "cell_type": "markdown",
   "metadata": {},
   "source": [
    "**Merging all the datafremes**"
   ]
  },
  {
   "cell_type": "code",
   "execution_count": 94,
   "metadata": {},
   "outputs": [],
   "source": [
    "dataframe = df_final.join([ChannelGrouping, SubContinent, Country, Browser, DeviceCategory, OperatingSystem, Source, Medium, hits_final, pagePathLevel1, pagePathLevel2, pagePathLevel3, ProductCat, CustomDim])"
   ]
  },
  {
   "cell_type": "code",
   "execution_count": 95,
   "metadata": {},
   "outputs": [],
   "source": [
    "dataframe = dataframe.astype(int)"
   ]
  },
  {
   "cell_type": "code",
   "execution_count": 96,
   "metadata": {},
   "outputs": [
    {
     "name": "stdout",
     "output_type": "stream",
     "text": [
      "<class 'pandas.core.frame.DataFrame'>\n",
      "RangeIndex: 20000 entries, 0 to 19999\n",
      "Columns: 109 entries, totals_bounces to customDimensions_South America\n",
      "dtypes: int32(109)\n",
      "memory usage: 8.3 MB\n"
     ]
    }
   ],
   "source": [
    "dataframe.info()"
   ]
  },
  {
   "cell_type": "markdown",
   "metadata": {},
   "source": [
    "#### _Evaluation Strategy_"
   ]
  },
  {
   "cell_type": "markdown",
   "metadata": {},
   "source": [
    "**Accuracy Score ($R^2$)** - Percentage of variance in the dependent variable explained by all the features. $R^2$ lies in a range between 0 and 1 with values closer to 1 indicating a very good model fit"
   ]
  },
  {
   "cell_type": "code",
   "execution_count": 97,
   "metadata": {},
   "outputs": [],
   "source": [
    "X = dataframe.copy()\n",
    "X = X.drop('totals_transactionRevenue',axis=1)\n",
    "Y = dataframe['totals_transactionRevenue']"
   ]
  },
  {
   "cell_type": "markdown",
   "metadata": {},
   "source": [
    "#### _Train-Test Split and Scaling_"
   ]
  },
  {
   "cell_type": "markdown",
   "metadata": {},
   "source": [
    "- Splitting the sample dataset into train set (80%) and test set (20%)\n",
    "\n",
    "- Applying **MinMaxScaler()** on train and test sets to scale the column values between 0 and 1. MinMaxScaler() reduces skewness but doesn't remove it. Since the column values are in the range of 0 to 1, the results will be consistent."
   ]
  },
  {
   "cell_type": "code",
   "execution_count": 98,
   "metadata": {},
   "outputs": [],
   "source": [
    "from sklearn.model_selection import train_test_split\n",
    "X_train_S, X_test_S, y_train, y_test = train_test_split(X, Y, test_size=0.2, random_state = 10)"
   ]
  },
  {
   "cell_type": "code",
   "execution_count": 99,
   "metadata": {},
   "outputs": [],
   "source": [
    "from sklearn.preprocessing import MinMaxScaler\n",
    "scaler = MinMaxScaler()\n",
    "X_train = scaler.fit_transform(X_train_S)\n",
    "X_test = scaler.transform(X_test_S)"
   ]
  },
  {
   "cell_type": "markdown",
   "metadata": {},
   "source": [
    "#### Method for plotting Train and Test Scores"
   ]
  },
  {
   "cell_type": "code",
   "execution_count": 100,
   "metadata": {},
   "outputs": [],
   "source": [
    "def grid_train_test_plot(df,col,train,test,title,xlabel,ylabel,width,height,flag):\n",
    "    fig = plt.figure(figsize=(width,height))\n",
    "    x=len(df[col])\n",
    "    x_label=df[col].unique()\n",
    "    ax = fig.add_subplot(111,facecolor='white')\n",
    "    ax.plot(df[col], df[train], c = 'g', linewidth=2, alpha=0.7,label='Train Accuracy Score')\n",
    "    ax.plot(df[col], df[test], c = 'b',linewidth=2, alpha=0.7,label='Test Accuracy Score')\n",
    "    ax.scatter(df[col], df[train], c = 'g', alpha=0.7,label='Train Accuracy Score')\n",
    "    ax.scatter(df[col], df[test], c = 'b',alpha=0.7,label='Test Accuracy Score')\n",
    "    if(flag=='show'):\n",
    "        for i,j in zip(df[col],round(df[train],3)):\n",
    "            ax.annotate(str(j),xy=(i,j),color='black')\n",
    "        for i,j in zip(df[col],round(df[test],3)):\n",
    "            ax.annotate(str(j),xy=(i,j),color='black')\n",
    "    ax.legend()\n",
    "    plt.grid(zorder=0)\n",
    "    ax.set_title(title,fontsize=20,weight='bold')\n",
    "    ax.set_xlabel(xlabel,fontsize=10,weight='bold')\n",
    "    ax.set_ylabel(ylabel,fontsize=10,weight='bold')\n",
    "    handles, labels = ax.get_legend_handles_labels()\n",
    "    plt.show()"
   ]
  },
  {
   "cell_type": "markdown",
   "metadata": {},
   "source": [
    "### Supervised Learning Models"
   ]
  },
  {
   "cell_type": "markdown",
   "metadata": {},
   "source": [
    "### Grid Search, Cross Validation with Ridge Regression"
   ]
  },
  {
   "cell_type": "code",
   "execution_count": 101,
   "metadata": {},
   "outputs": [
    {
     "name": "stdout",
     "output_type": "stream",
     "text": [
      "Fitting 5 folds for each of 28 candidates, totalling 140 fits\n"
     ]
    },
    {
     "name": "stderr",
     "output_type": "stream",
     "text": [
      "[Parallel(n_jobs=-1)]: Done  33 tasks      | elapsed:    8.3s\n",
      "[Parallel(n_jobs=-1)]: Done 140 out of 140 | elapsed:   15.6s finished\n"
     ]
    },
    {
     "name": "stdout",
     "output_type": "stream",
     "text": [
      "Best parameters: {'alpha': 0.1, 'fit_intercept': True, 'normalize': True}\n",
      "Best cross-validation score: 0.33\n"
     ]
    }
   ],
   "source": [
    "from sklearn.model_selection import GridSearchCV\n",
    "from sklearn.linear_model import Ridge\n",
    "\n",
    "ridgreg = Ridge(random_state=2)\n",
    "ridge_parameters = {'alpha':[0.001,0.01,0.1,0.5,1,10,100],'fit_intercept':[True,False],'normalize':[True,False]}\n",
    "\n",
    "ridgreg_grid_search = GridSearchCV(ridgreg, ridge_parameters, cv=5, return_train_score=True, n_jobs = -1, verbose=2)\n",
    "ridgreg_grid_search.fit(X_train, y_train)\n",
    "print(\"Best parameters: {}\".format(ridgreg_grid_search.best_params_))\n",
    "print(\"Best cross-validation score: {:.2f}\".format(ridgreg_grid_search.best_score_))"
   ]
  },
  {
   "cell_type": "code",
   "execution_count": 102,
   "metadata": {},
   "outputs": [],
   "source": [
    "ridgregresults = pd.DataFrame(ridgreg_grid_search.cv_results_)\n",
    "ridgregresults['identifier_name'] = ridgregresults.params.apply(lambda x: str(x).replace('{','').replace('}',''))\n",
    "ridgregresults['identifier'] = (ridgregresults.index)"
   ]
  },
  {
   "cell_type": "code",
   "execution_count": 103,
   "metadata": {},
   "outputs": [
    {
     "data": {
      "image/png": "[encoded data removed]",
      "text/plain": [
       "<Figure size 1008x432 with 1 Axes>"
      ]
     },
     "metadata": {},
     "output_type": "display_data"
    }
   ],
   "source": [
    "grid_train_test_plot(ridgregresults,'identifier','mean_train_score','mean_test_score','Grid Search Train Test Plot','Parameters','Scores',14,6,'hide')"
   ]
  },
  {
   "cell_type": "code",
   "execution_count": 104,
   "metadata": {},
   "outputs": [
    {
     "data": {
      "text/html": [
       "<div>\n",
       "<style scoped>\n",
       "    .dataframe tbody tr th:only-of-type {\n",
       "        vertical-align: middle;\n",
       "    }\n",
       "\n",
       "    .dataframe tbody tr th {\n",
       "        vertical-align: top;\n",
       "    }\n",
       "\n",
       "    .dataframe thead th {\n",
       "        text-align: right;\n",
       "    }\n",
       "</style>\n",
       "<table border=\"1\" class=\"dataframe\">\n",
       "  <thead>\n",
       "    <tr style=\"text-align: right;\">\n",
       "      <th></th>\n",
       "      <th>0</th>\n",
       "      <th>1</th>\n",
       "      <th>2</th>\n",
       "      <th>3</th>\n",
       "      <th>4</th>\n",
       "      <th>5</th>\n",
       "      <th>6</th>\n",
       "      <th>7</th>\n",
       "      <th>8</th>\n",
       "      <th>9</th>\n",
       "      <th>...</th>\n",
       "      <th>18</th>\n",
       "      <th>19</th>\n",
       "      <th>20</th>\n",
       "      <th>21</th>\n",
       "      <th>22</th>\n",
       "      <th>23</th>\n",
       "      <th>24</th>\n",
       "      <th>25</th>\n",
       "      <th>26</th>\n",
       "      <th>27</th>\n",
       "    </tr>\n",
       "  </thead>\n",
       "  <tbody>\n",
       "    <tr>\n",
       "      <th>identifier</th>\n",
       "      <td>0</td>\n",
       "      <td>1</td>\n",
       "      <td>2</td>\n",
       "      <td>3</td>\n",
       "      <td>4</td>\n",
       "      <td>5</td>\n",
       "      <td>6</td>\n",
       "      <td>7</td>\n",
       "      <td>8</td>\n",
       "      <td>9</td>\n",
       "      <td>...</td>\n",
       "      <td>18</td>\n",
       "      <td>19</td>\n",
       "      <td>20</td>\n",
       "      <td>21</td>\n",
       "      <td>22</td>\n",
       "      <td>23</td>\n",
       "      <td>24</td>\n",
       "      <td>25</td>\n",
       "      <td>26</td>\n",
       "      <td>27</td>\n",
       "    </tr>\n",
       "    <tr>\n",
       "      <th>identifier_name</th>\n",
       "      <td>'alpha': 0.001, 'fit_intercept': True, 'normal...</td>\n",
       "      <td>'alpha': 0.001, 'fit_intercept': True, 'normal...</td>\n",
       "      <td>'alpha': 0.001, 'fit_intercept': False, 'norma...</td>\n",
       "      <td>'alpha': 0.001, 'fit_intercept': False, 'norma...</td>\n",
       "      <td>'alpha': 0.01, 'fit_intercept': True, 'normali...</td>\n",
       "      <td>'alpha': 0.01, 'fit_intercept': True, 'normali...</td>\n",
       "      <td>'alpha': 0.01, 'fit_intercept': False, 'normal...</td>\n",
       "      <td>'alpha': 0.01, 'fit_intercept': False, 'normal...</td>\n",
       "      <td>'alpha': 0.1, 'fit_intercept': True, 'normaliz...</td>\n",
       "      <td>'alpha': 0.1, 'fit_intercept': True, 'normaliz...</td>\n",
       "      <td>...</td>\n",
       "      <td>'alpha': 1, 'fit_intercept': False, 'normalize...</td>\n",
       "      <td>'alpha': 1, 'fit_intercept': False, 'normalize...</td>\n",
       "      <td>'alpha': 10, 'fit_intercept': True, 'normalize...</td>\n",
       "      <td>'alpha': 10, 'fit_intercept': True, 'normalize...</td>\n",
       "      <td>'alpha': 10, 'fit_intercept': False, 'normaliz...</td>\n",
       "      <td>'alpha': 10, 'fit_intercept': False, 'normaliz...</td>\n",
       "      <td>'alpha': 100, 'fit_intercept': True, 'normaliz...</td>\n",
       "      <td>'alpha': 100, 'fit_intercept': True, 'normaliz...</td>\n",
       "      <td>'alpha': 100, 'fit_intercept': False, 'normali...</td>\n",
       "      <td>'alpha': 100, 'fit_intercept': False, 'normali...</td>\n",
       "    </tr>\n",
       "  </tbody>\n",
       "</table>\n",
       "<p>2 rows × 28 columns</p>\n",
       "</div>"
      ],
      "text/plain": [
       "                                                                0   \\\n",
       "identifier                                                       0   \n",
       "identifier_name  'alpha': 0.001, 'fit_intercept': True, 'normal...   \n",
       "\n",
       "                                                                1   \\\n",
       "identifier                                                       1   \n",
       "identifier_name  'alpha': 0.001, 'fit_intercept': True, 'normal...   \n",
       "\n",
       "                                                                2   \\\n",
       "identifier                                                       2   \n",
       "identifier_name  'alpha': 0.001, 'fit_intercept': False, 'norma...   \n",
       "\n",
       "                                                                3   \\\n",
       "identifier                                                       3   \n",
       "identifier_name  'alpha': 0.001, 'fit_intercept': False, 'norma...   \n",
       "\n",
       "                                                                4   \\\n",
       "identifier                                                       4   \n",
       "identifier_name  'alpha': 0.01, 'fit_intercept': True, 'normali...   \n",
       "\n",
       "                                                                5   \\\n",
       "identifier                                                       5   \n",
       "identifier_name  'alpha': 0.01, 'fit_intercept': True, 'normali...   \n",
       "\n",
       "                                                                6   \\\n",
       "identifier                                                       6   \n",
       "identifier_name  'alpha': 0.01, 'fit_intercept': False, 'normal...   \n",
       "\n",
       "                                                                7   \\\n",
       "identifier                                                       7   \n",
       "identifier_name  'alpha': 0.01, 'fit_intercept': False, 'normal...   \n",
       "\n",
       "                                                                8   \\\n",
       "identifier                                                       8   \n",
       "identifier_name  'alpha': 0.1, 'fit_intercept': True, 'normaliz...   \n",
       "\n",
       "                                                                9   \\\n",
       "identifier                                                       9   \n",
       "identifier_name  'alpha': 0.1, 'fit_intercept': True, 'normaliz...   \n",
       "\n",
       "                                       ...                          \\\n",
       "identifier                             ...                           \n",
       "identifier_name                        ...                           \n",
       "\n",
       "                                                                18  \\\n",
       "identifier                                                      18   \n",
       "identifier_name  'alpha': 1, 'fit_intercept': False, 'normalize...   \n",
       "\n",
       "                                                                19  \\\n",
       "identifier                                                      19   \n",
       "identifier_name  'alpha': 1, 'fit_intercept': False, 'normalize...   \n",
       "\n",
       "                                                                20  \\\n",
       "identifier                                                      20   \n",
       "identifier_name  'alpha': 10, 'fit_intercept': True, 'normalize...   \n",
       "\n",
       "                                                                21  \\\n",
       "identifier                                                      21   \n",
       "identifier_name  'alpha': 10, 'fit_intercept': True, 'normalize...   \n",
       "\n",
       "                                                                22  \\\n",
       "identifier                                                      22   \n",
       "identifier_name  'alpha': 10, 'fit_intercept': False, 'normaliz...   \n",
       "\n",
       "                                                                23  \\\n",
       "identifier                                                      23   \n",
       "identifier_name  'alpha': 10, 'fit_intercept': False, 'normaliz...   \n",
       "\n",
       "                                                                24  \\\n",
       "identifier                                                      24   \n",
       "identifier_name  'alpha': 100, 'fit_intercept': True, 'normaliz...   \n",
       "\n",
       "                                                                25  \\\n",
       "identifier                                                      25   \n",
       "identifier_name  'alpha': 100, 'fit_intercept': True, 'normaliz...   \n",
       "\n",
       "                                                                26  \\\n",
       "identifier                                                      26   \n",
       "identifier_name  'alpha': 100, 'fit_intercept': False, 'normali...   \n",
       "\n",
       "                                                                27  \n",
       "identifier                                                      27  \n",
       "identifier_name  'alpha': 100, 'fit_intercept': False, 'normali...  \n",
       "\n",
       "[2 rows x 28 columns]"
      ]
     },
     "execution_count": 104,
     "metadata": {},
     "output_type": "execute_result"
    }
   ],
   "source": [
    "ridgregresults[['identifier','identifier_name']].transpose()"
   ]
  },
  {
   "cell_type": "code",
   "execution_count": 105,
   "metadata": {},
   "outputs": [
    {
     "name": "stdout",
     "output_type": "stream",
     "text": [
      "Ridge Regression - Train Accuracy: 0.34\n",
      "Ridge Regression - Test Accuracy: 0.23 \n"
     ]
    }
   ],
   "source": [
    "ridgreg_accuracy_train = ridgreg_grid_search.best_estimator_.score(X_train, y_train)\n",
    "ridgreg_accuracy_test = ridgreg_grid_search.best_estimator_.score(X_test, y_test)\n",
    "\n",
    "print('Ridge Regression - Train Accuracy: %.2f'%ridgreg_accuracy_train)\n",
    "print('Ridge Regression - Test Accuracy: %.2f '%ridgreg_accuracy_test)"
   ]
  },
  {
   "cell_type": "code",
   "execution_count": 106,
   "metadata": {},
   "outputs": [],
   "source": [
    "report_table = [['Ridge Regression', str(ridgreg_grid_search.best_params_).replace('{','').replace('}','').replace('\\'',''),ridgreg_accuracy_train,ridgreg_accuracy_test ]]"
   ]
  },
  {
   "cell_type": "markdown",
   "metadata": {},
   "source": [
    "### Grid Search, Cross Validation with SGD Regression"
   ]
  },
  {
   "cell_type": "code",
   "execution_count": 107,
   "metadata": {},
   "outputs": [
    {
     "name": "stdout",
     "output_type": "stream",
     "text": [
      "Fitting 5 folds for each of 336 candidates, totalling 1680 fits\n"
     ]
    },
    {
     "name": "stderr",
     "output_type": "stream",
     "text": [
      "[Parallel(n_jobs=-1)]: Done  33 tasks      | elapsed:    8.6s\n",
      "[Parallel(n_jobs=-1)]: Done 154 tasks      | elapsed:   17.5s\n",
      "[Parallel(n_jobs=-1)]: Done 357 tasks      | elapsed:   32.4s\n",
      "[Parallel(n_jobs=-1)]: Done 640 tasks      | elapsed:   52.7s\n",
      "[Parallel(n_jobs=-1)]: Done 1005 tasks      | elapsed:  1.3min\n",
      "[Parallel(n_jobs=-1)]: Done 1450 tasks      | elapsed:  1.9min\n",
      "[Parallel(n_jobs=-1)]: Done 1680 out of 1680 | elapsed:  2.1min finished\n"
     ]
    },
    {
     "name": "stdout",
     "output_type": "stream",
     "text": [
      "Best parameters: {'alpha': 10, 'learning_rate': 'constant', 'loss': 'squared_epsilon_insensitive', 'penalty': 'l1'}\n",
      "Best cross-validation score: 0.29\n"
     ]
    }
   ],
   "source": [
    "from sklearn.linear_model import SGDRegressor\n",
    "sgdreg=SGDRegressor(random_state=2)\n",
    "sgd_parameters = {'loss':['squared_loss','huber','epsilon_insensitive','squared_epsilon_insensitive'], 'penalty':[None,'l2','l1','elasticnet'],'alpha':[0.0001,0.001,0.01,0.05,0.1,1,10],'learning_rate':['constant','optimal','invscaling'] }\n",
    "\n",
    "sgdreg_grid_search = GridSearchCV(sgdreg, sgd_parameters, cv=5, return_train_score=True, n_jobs = -1,verbose=2)\n",
    "sgdreg_grid_search.fit(X_train, y_train)\n",
    "print(\"Best parameters: {}\".format(sgdreg_grid_search.best_params_))\n",
    "print(\"Best cross-validation score: {:.2f}\".format(sgdreg_grid_search.best_score_))"
   ]
  },
  {
   "cell_type": "code",
   "execution_count": 108,
   "metadata": {},
   "outputs": [
    {
     "name": "stdout",
     "output_type": "stream",
     "text": [
      "SGD Regression - Train Accuracy: 0.26\n",
      "SGD Regression - Test Accuracy: 0.15 \n"
     ]
    }
   ],
   "source": [
    "sgdreg_accuracy_train = sgdreg_grid_search.best_estimator_.score(X_train, y_train)\n",
    "sgdreg_accuracy_test = sgdreg_grid_search.best_estimator_.score(X_test, y_test)\n",
    "\n",
    "print('SGD Regression - Train Accuracy: %.2f'%sgdreg_accuracy_train)\n",
    "print('SGD Regression - Test Accuracy: %.2f '%sgdreg_accuracy_test)"
   ]
  },
  {
   "cell_type": "code",
   "execution_count": 109,
   "metadata": {},
   "outputs": [],
   "source": [
    "report_table = report_table + [['SGD Regression', str(sgdreg_grid_search.best_params_).replace('{','').replace('}','').replace('\\'',''),sgdreg_accuracy_train,sgdreg_accuracy_test ]]"
   ]
  },
  {
   "cell_type": "markdown",
   "metadata": {},
   "source": [
    "### Unsupervised Learning Models"
   ]
  },
  {
   "cell_type": "markdown",
   "metadata": {},
   "source": [
    "### k-Means Clustering"
   ]
  },
  {
   "cell_type": "code",
   "execution_count": 110,
   "metadata": {},
   "outputs": [],
   "source": [
    "from sklearn.cluster import KMeans\n",
    "import matplotlib.pyplot as plt\n",
    "\n",
    "sse = {}\n",
    "for k in range(1, 20):\n",
    "    kmeans = KMeans(n_clusters=k, max_iter=1000).fit(X)\n",
    "    X[\"clusters\"] = kmeans.labels_\n",
    "    sse[k] = kmeans.inertia_"
   ]
  },
  {
   "cell_type": "code",
   "execution_count": 111,
   "metadata": {},
   "outputs": [
    {
     "data": {
      "image/png": "[encoded data removed]",
      "text/plain": [
       "<Figure size 1152x216 with 1 Axes>"
      ]
     },
     "metadata": {},
     "output_type": "display_data"
    }
   ],
   "source": [
    "plt.figure(figsize=(16,3))\n",
    "plt.plot(list(sse.keys()), list(sse.values()))\n",
    "plt.xlabel(\"Number of cluster\")\n",
    "plt.grid(True)\n",
    "plt.ylabel(\"SSE\")\n",
    "plt.show()"
   ]
  },
  {
   "cell_type": "markdown",
   "metadata": {},
   "source": [
    "From the above plot, it can be seen that the optimal number of clusters is 3."
   ]
  },
  {
   "cell_type": "code",
   "execution_count": 112,
   "metadata": {},
   "outputs": [],
   "source": [
    "kmeans = KMeans(n_clusters=3, max_iter=1000).fit(X)"
   ]
  },
  {
   "cell_type": "code",
   "execution_count": 113,
   "metadata": {},
   "outputs": [],
   "source": [
    "df_final['clusters'] = kmeans.labels_"
   ]
  },
  {
   "cell_type": "code",
   "execution_count": 114,
   "metadata": {},
   "outputs": [
    {
     "data": {
      "text/plain": [
       "0    18084\n",
       "2     1528\n",
       "1      388\n",
       "Name: clusters, dtype: int64"
      ]
     },
     "execution_count": 114,
     "metadata": {},
     "output_type": "execute_result"
    }
   ],
   "source": [
    "df_final['clusters'].value_counts()"
   ]
  },
  {
   "cell_type": "code",
   "execution_count": 115,
   "metadata": {},
   "outputs": [
    {
     "data": {
      "text/html": [
       "<div>\n",
       "<style scoped>\n",
       "    .dataframe tbody tr th:only-of-type {\n",
       "        vertical-align: middle;\n",
       "    }\n",
       "\n",
       "    .dataframe tbody tr th {\n",
       "        vertical-align: top;\n",
       "    }\n",
       "\n",
       "    .dataframe thead th {\n",
       "        text-align: right;\n",
       "    }\n",
       "</style>\n",
       "<table border=\"1\" class=\"dataframe\">\n",
       "  <thead>\n",
       "    <tr style=\"text-align: right;\">\n",
       "      <th></th>\n",
       "      <th>totals_bounces</th>\n",
       "      <th>totals_hits</th>\n",
       "      <th>totals_newVisits</th>\n",
       "      <th>totals_pageviews</th>\n",
       "      <th>totals_sessionQualityDim</th>\n",
       "      <th>totals_timeOnSite</th>\n",
       "      <th>totals_transactionRevenue</th>\n",
       "      <th>totals_transactions</th>\n",
       "    </tr>\n",
       "    <tr>\n",
       "      <th>clusters</th>\n",
       "      <th></th>\n",
       "      <th></th>\n",
       "      <th></th>\n",
       "      <th></th>\n",
       "      <th></th>\n",
       "      <th></th>\n",
       "      <th></th>\n",
       "      <th></th>\n",
       "    </tr>\n",
       "  </thead>\n",
       "  <tbody>\n",
       "    <tr>\n",
       "      <th>0</th>\n",
       "      <td>0.545952</td>\n",
       "      <td>3.192767</td>\n",
       "      <td>0.769244</td>\n",
       "      <td>2.769465</td>\n",
       "      <td>1.096162</td>\n",
       "      <td>44.425570</td>\n",
       "      <td>1.954855e+05</td>\n",
       "      <td>0.002267</td>\n",
       "    </tr>\n",
       "    <tr>\n",
       "      <th>1</th>\n",
       "      <td>0.000000</td>\n",
       "      <td>26.716495</td>\n",
       "      <td>0.572165</td>\n",
       "      <td>20.329897</td>\n",
       "      <td>10.902062</td>\n",
       "      <td>2037.724227</td>\n",
       "      <td>9.205902e+06</td>\n",
       "      <td>0.077320</td>\n",
       "    </tr>\n",
       "    <tr>\n",
       "      <th>2</th>\n",
       "      <td>0.000000</td>\n",
       "      <td>18.183901</td>\n",
       "      <td>0.625000</td>\n",
       "      <td>14.041885</td>\n",
       "      <td>10.855366</td>\n",
       "      <td>703.603403</td>\n",
       "      <td>9.086603e+06</td>\n",
       "      <td>0.087042</td>\n",
       "    </tr>\n",
       "  </tbody>\n",
       "</table>\n",
       "</div>"
      ],
      "text/plain": [
       "          totals_bounces  totals_hits  totals_newVisits  totals_pageviews  \\\n",
       "clusters                                                                    \n",
       "0               0.545952     3.192767          0.769244          2.769465   \n",
       "1               0.000000    26.716495          0.572165         20.329897   \n",
       "2               0.000000    18.183901          0.625000         14.041885   \n",
       "\n",
       "          totals_sessionQualityDim  totals_timeOnSite  \\\n",
       "clusters                                                \n",
       "0                         1.096162          44.425570   \n",
       "1                        10.902062        2037.724227   \n",
       "2                        10.855366         703.603403   \n",
       "\n",
       "          totals_transactionRevenue  totals_transactions  \n",
       "clusters                                                  \n",
       "0                      1.954855e+05             0.002267  \n",
       "1                      9.205902e+06             0.077320  \n",
       "2                      9.086603e+06             0.087042  "
      ]
     },
     "execution_count": 115,
     "metadata": {},
     "output_type": "execute_result"
    }
   ],
   "source": [
    "df_final.groupby(['clusters']).mean()"
   ]
  },
  {
   "cell_type": "markdown",
   "metadata": {},
   "source": [
    "Cluster 0 -- Customers in this group contribute to highest bounce rate(percentage of single page visits), low hits, low page views and sessions. They spend less time on site and generate low transactional revenue.\n",
    "\n",
    "Cluster 1 -- Customers in this group contribute to average number of hits, average number of page views and sessions. They spend good amount of time on site and generate high transactional revenue.\n",
    "\n",
    "Cluster 2 -- Customers in this group contribute to high hits, high page views and sessions. They spend large amount of time on site and generate highest transactional revenue among the other two clusters."
   ]
  },
  {
   "cell_type": "markdown",
   "metadata": {},
   "source": [
    "### Principal Component Analysis"
   ]
  },
  {
   "cell_type": "code",
   "execution_count": 116,
   "metadata": {},
   "outputs": [],
   "source": [
    "X_scaled = scaler.fit_transform(X)"
   ]
  },
  {
   "cell_type": "code",
   "execution_count": 117,
   "metadata": {},
   "outputs": [
    {
     "data": {
      "image/png": "[encoded data removed]",
      "text/plain": [
       "<Figure size 1296x648 with 1 Axes>"
      ]
     },
     "metadata": {},
     "output_type": "display_data"
    }
   ],
   "source": [
    "from sklearn.decomposition import PCA\n",
    "\n",
    "pca = PCA().fit(X_scaled)\n",
    "plt.figure(figsize=(18,9))\n",
    "plt.plot(np.cumsum(pca.explained_variance_ratio_))\n",
    "plt.xlabel('number of components')\n",
    "plt.xticks(np.arange(0, len(np.cumsum(pca.explained_variance_ratio_)), 2))\n",
    "plt.ylabel('cumulative explained variance')\n",
    "plt.grid(True)"
   ]
  },
  {
   "cell_type": "code",
   "execution_count": 118,
   "metadata": {},
   "outputs": [
    {
     "data": {
      "text/plain": [
       "44"
      ]
     },
     "execution_count": 118,
     "metadata": {},
     "output_type": "execute_result"
    }
   ],
   "source": [
    "Num_Components = np.argmax(np.cumsum(pca.explained_variance_ratio_) >= 0.95) + 1\n",
    "Num_Components"
   ]
  },
  {
   "cell_type": "markdown",
   "metadata": {},
   "source": [
    "From the above plot, it can be seen that the optimal number of components is 43."
   ]
  },
  {
   "cell_type": "code",
   "execution_count": 119,
   "metadata": {},
   "outputs": [],
   "source": [
    "pca = PCA(n_components=Num_Components)\n",
    "pca.fit(X_scaled)\n",
    "X_pca = pca.transform(X_scaled)"
   ]
  },
  {
   "cell_type": "code",
   "execution_count": 120,
   "metadata": {},
   "outputs": [],
   "source": [
    "from sklearn.model_selection import train_test_split\n",
    "X_train_pca, X_test_pca, y_train_pca, y_test_pca = train_test_split(X_pca, Y, test_size=0.2, random_state = 10)"
   ]
  },
  {
   "cell_type": "markdown",
   "metadata": {},
   "source": [
    "### Ridge Regression - After Dimensionality Reduction using PCA"
   ]
  },
  {
   "cell_type": "code",
   "execution_count": 121,
   "metadata": {},
   "outputs": [
    {
     "name": "stdout",
     "output_type": "stream",
     "text": [
      "Fitting 5 folds for each of 28 candidates, totalling 140 fits\n"
     ]
    },
    {
     "name": "stderr",
     "output_type": "stream",
     "text": [
      "[Parallel(n_jobs=-1)]: Done  33 tasks      | elapsed:    6.9s\n"
     ]
    },
    {
     "name": "stdout",
     "output_type": "stream",
     "text": [
      "Best parameters: {'alpha': 0.5, 'fit_intercept': True, 'normalize': True}\n",
      "Best cross-validation score: 0.01\n"
     ]
    },
    {
     "name": "stderr",
     "output_type": "stream",
     "text": [
      "[Parallel(n_jobs=-1)]: Done 140 out of 140 | elapsed:    9.8s finished\n"
     ]
    }
   ],
   "source": [
    "ridgreg_pca_grid_search = GridSearchCV(ridgreg, ridge_parameters, cv=5, return_train_score=True, n_jobs = -1, verbose=2)\n",
    "ridgreg_pca_grid_search.fit(X_train_pca, y_train_pca)\n",
    "print(\"Best parameters: {}\".format(ridgreg_pca_grid_search.best_params_))\n",
    "print(\"Best cross-validation score: {:.2f}\".format(ridgreg_pca_grid_search.best_score_))"
   ]
  },
  {
   "cell_type": "code",
   "execution_count": 122,
   "metadata": {},
   "outputs": [],
   "source": [
    "pca_ridgregresults = pd.DataFrame(ridgreg_pca_grid_search.cv_results_)\n",
    "pca_ridgregresults['identifier_name'] = pca_ridgregresults.params.apply(lambda x: str(x).replace('{','').replace('}',''))\n",
    "pca_ridgregresults['identifier'] = (pca_ridgregresults.index)"
   ]
  },
  {
   "cell_type": "code",
   "execution_count": 123,
   "metadata": {},
   "outputs": [
    {
     "data": {
      "image/png": "[encoded data removed]",
      "text/plain": [
       "<Figure size 1008x432 with 1 Axes>"
      ]
     },
     "metadata": {},
     "output_type": "display_data"
    }
   ],
   "source": [
    "grid_train_test_plot(pca_ridgregresults,'identifier','mean_train_score','mean_test_score','Grid Search Train Test Plot','Parameters','Scores',14,6,'hide')"
   ]
  },
  {
   "cell_type": "code",
   "execution_count": 124,
   "metadata": {},
   "outputs": [
    {
     "name": "stdout",
     "output_type": "stream",
     "text": [
      "Ridge Regression - Train Accuracy: 0.01\n",
      "Ridge Regression - Test Accuracy: 0.01 \n"
     ]
    }
   ],
   "source": [
    "ridgreg_pca_accuracy_train = ridgreg_pca_grid_search.best_estimator_.score(X_train_pca, y_train_pca)\n",
    "ridgreg_pca_accuracy_test = ridgreg_pca_grid_search.best_estimator_.score(X_test_pca, y_test_pca)\n",
    "\n",
    "print('Ridge Regression - Train Accuracy: %.2f'%ridgreg_pca_accuracy_train)\n",
    "print('Ridge Regression - Test Accuracy: %.2f '%ridgreg_pca_accuracy_test)"
   ]
  },
  {
   "cell_type": "code",
   "execution_count": 125,
   "metadata": {},
   "outputs": [],
   "source": [
    "report_table = report_table + [['Ridge Regression After PCA', str(ridgreg_pca_grid_search.best_params_).replace('{','').replace('}','').replace('\\'',''),ridgreg_pca_accuracy_train,ridgreg_pca_accuracy_test ]]"
   ]
  },
  {
   "cell_type": "markdown",
   "metadata": {},
   "source": [
    "### SGD Regression - After Dimensionality Reduction using PCA"
   ]
  },
  {
   "cell_type": "code",
   "execution_count": 126,
   "metadata": {},
   "outputs": [
    {
     "name": "stdout",
     "output_type": "stream",
     "text": [
      "Fitting 5 folds for each of 336 candidates, totalling 1680 fits\n"
     ]
    },
    {
     "name": "stderr",
     "output_type": "stream",
     "text": [
      "[Parallel(n_jobs=-1)]: Done  33 tasks      | elapsed:    7.3s\n",
      "[Parallel(n_jobs=-1)]: Done 154 tasks      | elapsed:   11.3s\n",
      "[Parallel(n_jobs=-1)]: Done 357 tasks      | elapsed:   18.0s\n",
      "[Parallel(n_jobs=-1)]: Done 640 tasks      | elapsed:   27.2s\n",
      "[Parallel(n_jobs=-1)]: Done 1005 tasks      | elapsed:   39.1s\n",
      "[Parallel(n_jobs=-1)]: Done 1450 tasks      | elapsed:   53.7s\n",
      "[Parallel(n_jobs=-1)]: Done 1680 out of 1680 | elapsed:  1.0min finished\n"
     ]
    },
    {
     "name": "stdout",
     "output_type": "stream",
     "text": [
      "Best parameters: {'alpha': 0.1, 'learning_rate': 'optimal', 'loss': 'squared_loss', 'penalty': 'elasticnet'}\n",
      "Best cross-validation score: 0.01\n"
     ]
    }
   ],
   "source": [
    "sgdreg_pca_grid_search = GridSearchCV(sgdreg, sgd_parameters, cv=5, return_train_score=True, n_jobs = -1,verbose=2)\n",
    "sgdreg_pca_grid_search.fit(X_train_pca, y_train_pca)\n",
    "print(\"Best parameters: {}\".format(sgdreg_pca_grid_search.best_params_))\n",
    "print(\"Best cross-validation score: {:.2f}\".format(sgdreg_pca_grid_search.best_score_))"
   ]
  },
  {
   "cell_type": "code",
   "execution_count": 127,
   "metadata": {},
   "outputs": [
    {
     "name": "stdout",
     "output_type": "stream",
     "text": [
      "SGD Regression - Train Accuracy: 0.01\n",
      "SGD Regression - Test Accuracy: 0.01 \n"
     ]
    }
   ],
   "source": [
    "sgdreg_pca_accuracy_train = sgdreg_pca_grid_search.best_estimator_.score(X_train_pca, y_train_pca)\n",
    "sgdreg_pca_accuracy_test = sgdreg_pca_grid_search.best_estimator_.score(X_test_pca, y_test_pca)\n",
    "\n",
    "print('SGD Regression - Train Accuracy: %.2f'%sgdreg_pca_accuracy_train)\n",
    "print('SGD Regression - Test Accuracy: %.2f '%sgdreg_pca_accuracy_test)"
   ]
  },
  {
   "cell_type": "code",
   "execution_count": 128,
   "metadata": {},
   "outputs": [],
   "source": [
    "report_table = report_table + [['SGD Regression After PCA', str(sgdreg_pca_grid_search.best_params_).replace('{','').replace('}','').replace('\\'',''),sgdreg_pca_accuracy_train,sgdreg_pca_accuracy_test ]]"
   ]
  },
  {
   "cell_type": "code",
   "execution_count": 129,
   "metadata": {},
   "outputs": [
    {
     "data": {
      "text/html": [
       "<div>\n",
       "<style scoped>\n",
       "    .dataframe tbody tr th:only-of-type {\n",
       "        vertical-align: middle;\n",
       "    }\n",
       "\n",
       "    .dataframe tbody tr th {\n",
       "        vertical-align: top;\n",
       "    }\n",
       "\n",
       "    .dataframe thead th {\n",
       "        text-align: right;\n",
       "    }\n",
       "</style>\n",
       "<table border=\"1\" class=\"dataframe\">\n",
       "  <thead>\n",
       "    <tr style=\"text-align: right;\">\n",
       "      <th></th>\n",
       "      <th>Model Parameters</th>\n",
       "      <th>Train Accuracy</th>\n",
       "      <th>Test Accuracy</th>\n",
       "    </tr>\n",
       "    <tr>\n",
       "      <th>Model Name</th>\n",
       "      <th></th>\n",
       "      <th></th>\n",
       "      <th></th>\n",
       "    </tr>\n",
       "  </thead>\n",
       "  <tbody>\n",
       "    <tr>\n",
       "      <th>Ridge Regression</th>\n",
       "      <td>alpha: 0.1, fit_intercept: True, normalize: True</td>\n",
       "      <td>0.338085</td>\n",
       "      <td>0.230113</td>\n",
       "    </tr>\n",
       "    <tr>\n",
       "      <th>SGD Regression</th>\n",
       "      <td>alpha: 10, learning_rate: constant, loss: squa...</td>\n",
       "      <td>0.257204</td>\n",
       "      <td>0.153428</td>\n",
       "    </tr>\n",
       "    <tr>\n",
       "      <th>Ridge Regression After PCA</th>\n",
       "      <td>alpha: 0.5, fit_intercept: True, normalize: True</td>\n",
       "      <td>0.013520</td>\n",
       "      <td>0.008295</td>\n",
       "    </tr>\n",
       "    <tr>\n",
       "      <th>SGD Regression After PCA</th>\n",
       "      <td>alpha: 0.1, learning_rate: optimal, loss: squa...</td>\n",
       "      <td>0.012794</td>\n",
       "      <td>0.009173</td>\n",
       "    </tr>\n",
       "  </tbody>\n",
       "</table>\n",
       "</div>"
      ],
      "text/plain": [
       "                                                             Model Parameters  \\\n",
       "Model Name                                                                      \n",
       "Ridge Regression             alpha: 0.1, fit_intercept: True, normalize: True   \n",
       "SGD Regression              alpha: 10, learning_rate: constant, loss: squa...   \n",
       "Ridge Regression After PCA   alpha: 0.5, fit_intercept: True, normalize: True   \n",
       "SGD Regression After PCA    alpha: 0.1, learning_rate: optimal, loss: squa...   \n",
       "\n",
       "                            Train Accuracy  Test Accuracy  \n",
       "Model Name                                                 \n",
       "Ridge Regression                  0.338085       0.230113  \n",
       "SGD Regression                    0.257204       0.153428  \n",
       "Ridge Regression After PCA        0.013520       0.008295  \n",
       "SGD Regression After PCA          0.012794       0.009173  "
      ]
     },
     "execution_count": 129,
     "metadata": {},
     "output_type": "execute_result"
    }
   ],
   "source": [
    "report = pd.DataFrame(report_table,columns = ['Model Name', 'Model Parameters', 'Train Accuracy', 'Test Accuracy'])\n",
    "report.index = report['Model Name']\n",
    "report.drop(['Model Name'], axis=1,inplace=True)\n",
    "report"
   ]
  },
  {
   "cell_type": "code",
   "execution_count": 130,
   "metadata": {},
   "outputs": [],
   "source": [
    "report['identifier'] = report.index\n",
    "report['identifier'] = report.identifier.apply(lambda x: str(x).replace('Regression',''))"
   ]
  },
  {
   "cell_type": "code",
   "execution_count": 131,
   "metadata": {},
   "outputs": [
    {
     "data": {
      "image/png": "[encoded data removed]",
      "text/plain": [
       "<Figure size 1152x576 with 1 Axes>"
      ]
     },
     "metadata": {},
     "output_type": "display_data"
    }
   ],
   "source": [
    "%matplotlib inline\n",
    "fig = plt.figure(figsize=(16,8))\n",
    "ax = fig.add_subplot(111,facecolor='darkslategray')\n",
    "ax.plot(report['identifier'], report['Train Accuracy'], c = 'cyan')\n",
    "ax.plot(report['identifier'], report['Test Accuracy'], c = 'lightgreen')\n",
    "ax.scatter(report['identifier'], report['Train Accuracy'], c = 'cyan')\n",
    "ax.scatter(report['identifier'], report['Test Accuracy'], c = 'lightgreen')\n",
    "for i,j in zip(report['identifier'],round(report['Train Accuracy'],3)):\n",
    "    ax.annotate(str(j),xy=(i,j+0.03),color='white',weight='bold')\n",
    "for i,j in zip(report['identifier'],round(report['Test Accuracy'],3)):\n",
    "    ax.annotate(str(j),xy=(i,j-0.03),color='white',weight='bold')\n",
    "ax.legend()\n",
    "ax.set_title('Hyper Tuned Models - Accuracy Plot',fontsize=20,weight='bold')\n",
    "ax.set_xlabel('Regression Models',fontsize=12,weight='bold')\n",
    "ax.set_ylabel('Accuracy Scores',fontsize=12,weight='bold')\n",
    "handles, labels = ax.get_legend_handles_labels()\n",
    "plt.grid()\n",
    "plt.show()"
   ]
  },
  {
   "cell_type": "markdown",
   "metadata": {},
   "source": [
    "### Conclusion"
   ]
  },
  {
   "cell_type": "markdown",
   "metadata": {},
   "source": [
    "- After dimensionality reduction using PCA, applying Ridge and SGD regression models on reduced dataset results in decrease in accuracy.\n",
    "\n",
    "- Fitting Ridge and SGD regression models on the entire dataset is efficient comapred to fitting them on the reduced dataset (PCA).\n",
    "\n",
    "- Ridge regression gives better accuracy score comapred to SGD regression when fitted on the entire dataset. Also, Ridge regression is a regularization techniques which will retain all the features by shrinking the coefficients and prevents overfitting of training data.\n"
   ]
  }
 ],
 "metadata": {
  "kernelspec": {
   "display_name": "Python 3",
   "language": "python",
   "name": "python3"
  },
  "language_info": {
   "codemirror_mode": {
    "name": "ipython",
    "version": 3
   },
   "file_extension": ".py",
   "mimetype": "text/x-python",
   "name": "python",
   "nbconvert_exporter": "python",
   "pygments_lexer": "ipython3",
   "version": "3.6.5"
  }
 },
 "nbformat": 4,
 "nbformat_minor": 2
}
